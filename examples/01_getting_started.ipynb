{
 "cells": [
  {
   "cell_type": "markdown",
   "id": "b0d397a5-b5a6-41ad-9672-7d138e270024",
   "metadata": {},
   "source": [
    "# Getting Started with Melodia\n",
    "\n",
    "Melodia is a library used for computing the differential geometry of the curves that describe the backbone of proteins. We designed it to be compatible with the Pandas (and BioPandas), BioPython and scikit-learn libraries. In this notebook, we will show some examples of its usage."
   ]
  },
  {
   "cell_type": "code",
   "execution_count": 1,
   "id": "c382356c",
   "metadata": {},
   "source": [
    "import os \n",
    "import dill\n",
    "\n",
    "import numpy as np\n",
    "import pandas as pd\n",
    "import seaborn as sns\n",
    "import matplotlib.pyplot as plt\n",
    "\n",
    "from Bio.PDB import PDBParser, PDBIO\n",
    "\n",
    "from sklearn.preprocessing import StandardScaler"
   ],
   "outputs": []
  },
  {
   "cell_type": "code",
   "execution_count": 2,
   "id": "4686a51d-11e3-494c-9308-ed18614f473a",
   "metadata": {},
   "source": [
    "# Import melodia library\n",
    "import melodia as mel"
   ],
   "outputs": []
  },
  {
   "cell_type": "markdown",
   "id": "fa09893e",
   "metadata": {},
   "source": [
    "## Creating a Pandas DataFrame object from a structure file\n",
    "\n",
    "Melodia allows us to import a PDB file directly into a Pandas Dataframe. "
   ]
  },
  {
   "cell_type": "code",
   "execution_count": 3,
   "id": "88178465-7b44-4dd3-a5c9-11e333c003e2",
   "metadata": {},
   "source": [
    "# Example with multiple chains\n",
    "file_name = '2k5x.pdb'"
   ],
   "outputs": []
  },
  {
   "cell_type": "code",
   "execution_count": 4,
   "id": "7a10a5ad-1075-4400-a3e1-1a290282a694",
   "metadata": {},
   "source": [
    "# Example with multiple models\n",
    "#file_name = '2lj5.pdb'"
   ],
   "outputs": []
  },
  {
   "cell_type": "code",
   "execution_count": 5,
   "id": "714196c3-a265-417e-8f02-cbb6a3705639",
   "metadata": {},
   "source": [
    "# The geometry_from_structure_file function is used to open a traditional PDB file and convert it\n",
    "# to a Pandas DataFrame with its differential geometry\n",
    "\n",
    "dfi = mel.geometry_from_structure_file(file_name)"
   ],
   "outputs": []
  },
  {
   "cell_type": "code",
   "execution_count": 6,
   "id": "8c5851ff-67c7-4c33-b220-d3c67e1160b6",
   "metadata": {},
   "source": [
    "dfi"
   ],
   "outputs": []
  },
  {
   "cell_type": "markdown",
   "id": "e5425286-bb57-4871-8890-5725fbec44f5",
   "metadata": {},
   "source": [
    "## Model and Chain Selection\n",
    "\n",
    "Due to the output data being in the Pandas format, we can use its notation for data processing. Thus, using the well-documented Pandas selection rules, model, and chain selection is trivial."
   ]
  },
  {
   "cell_type": "code",
   "execution_count": 7,
   "id": "7b34111b-0c33-4f1c-8696-4bc84f2fc85e",
   "metadata": {},
   "source": [
    "model = dfi['model'] == 0\n",
    "chain = dfi['chain'] == 'A'\n",
    "\n",
    "#dfo = dfi[model].copy() # Select only model\n",
    "#dfo = dfi[chain].copy() # Select only chain\n",
    "dfo = dfi[model & chain].copy() # Select both model and chain"
   ],
   "outputs": []
  },
  {
   "cell_type": "code",
   "execution_count": 8,
   "id": "0de660fd-a9ac-4fd1-9a0a-f633fb6607af",
   "metadata": {},
   "source": [
    "dfo"
   ],
   "outputs": []
  },
  {
   "cell_type": "markdown",
   "id": "b83d7e62-167c-4ca9-a40c-fb37f9d54140",
   "metadata": {},
   "source": [
    "## Basic Plots"
   ]
  },
  {
   "cell_type": "markdown",
   "id": "270246d6-ca7f-428e-8ee5-e61691163283",
   "metadata": {},
   "source": [
    "### A Ramachandran Plot"
   ]
  },
  {
   "cell_type": "code",
   "execution_count": 9,
   "id": "6e7080b4-3ba9-4d35-80a4-6b61dd3cf90f",
   "metadata": {},
   "source": [
    "cmap = sns.color_palette('Blues', as_cmap=True)\n",
    "sns.jointplot(x='phi', y='psi', data=dfo, kind='kde', cmap=cmap, height=10, fill=True);"
   ],
   "outputs": []
  },
  {
   "cell_type": "markdown",
   "id": "1c7d5408-da47-4928-a79b-142b04c56e98",
   "metadata": {},
   "source": [
    "### A Differential Geometry based Ramachandran-Like Plot\n",
    "\n",
    "One of the valuable applications of Melodia is a Ramachandran-like plot for the curvature and torsion values. It shows the general geometric behaviour of the protein backbone. "
   ]
  },
  {
   "cell_type": "code",
   "execution_count": 10,
   "id": "345dea97-035f-4aac-8228-14ae78fe7e7f",
   "metadata": {},
   "source": [
    "sns.jointplot(x='curvature', y='torsion', data=dfo, kind='kde', cmap=cmap, height=10, fill=True);"
   ],
   "outputs": []
  },
  {
   "cell_type": "markdown",
   "id": "8a360b83",
   "metadata": {},
   "source": [
    "### Apply scikit-learn Standard Scaler to the Geometric Attributes\n",
    "\n",
    "For Machine and Deep Learning applications, it is essential to standardize the differential geometry values, as curvature and torsion present different scales. One possible procedure is the scikit-learn StandardScaler function. Here, we want to select only the glycine residues and visualize their geometric distribution."
   ]
  },
  {
   "cell_type": "code",
   "execution_count": 11,
   "id": "4a211c31-a837-415b-a812-85d9db83f7b5",
   "metadata": {},
   "source": [
    "# Define the autoscaler from scikit-learn\n",
    "autoscaler = StandardScaler()\n",
    "\n",
    "# Define features for scaling\n",
    "features = ['curvature', 'torsion', 'arc_length', 'writhing']\n",
    "\n",
    "# Scale the DataFrame\n",
    "dfsd = dfo.copy()\n",
    "dfsd[features] = autoscaler.fit_transform(dfsd[features])"
   ],
   "outputs": []
  },
  {
   "cell_type": "code",
   "execution_count": 12,
   "id": "eb434010",
   "metadata": {},
   "source": [
    "name = dfsd['name'] == 'GLY'\n",
    "sel_name = dfsd[name].copy()\n",
    "sel_name"
   ],
   "outputs": []
  },
  {
   "cell_type": "code",
   "execution_count": 13,
   "id": "c82de809",
   "metadata": {},
   "source": [
    "plot = sns.jointplot(x='curvature', y='torsion', data=sel_name, kind='kde', cmap=cmap, height=10, fill=True)\n",
    "plot.fig.suptitle('GLY only')\n",
    "plot.fig.subplots_adjust(top=0.95)"
   ],
   "outputs": []
  },
  {
   "cell_type": "markdown",
   "id": "50711d73-fbae-4315-a4a1-a888c6c1ec2a",
   "metadata": {},
   "source": [
    "We can also select different residue types (GLY and GLU, for example), visualize their geometric distribution and compare their importance for the backbone shape."
   ]
  },
  {
   "cell_type": "code",
   "execution_count": 14,
   "id": "5526f972-d60a-44ac-a766-c9744471c877",
   "metadata": {},
   "source": [
    "# Select residues in a list of names\n",
    "names = dfsd['name'].isin(['GLY', 'GLU'])\n",
    "sel_names = dfsd[names].copy()\n",
    "sel_names"
   ],
   "outputs": []
  },
  {
   "cell_type": "code",
   "execution_count": 15,
   "id": "91de532f-fcaf-4538-bc4f-81c7c7470551",
   "metadata": {},
   "source": [
    "plot = sns.jointplot(x='curvature', y='torsion', data=sel_names, hue='name', kind='kde', height=10)"
   ],
   "outputs": []
  },
  {
   "cell_type": "markdown",
   "id": "9ffc4e4e-c76f-4403-a291-f399c6a66ae7",
   "metadata": {},
   "source": [
    "***\n",
    "\n",
    "Through this plot, it is easy to observe the different behaviours of the backbone geometry on these residues. The GLU residue shows a more comprehensive curvature range and tight torsion range, while GLY is the opposite, showing a limited curvature range and ample torsion range. Thus, GLU tends to curve the backbone in a plane, and GLY allows backbone twists to escape the plane. For a more thorough explanation of this behaviour, **see figure 16 in**:\n",
    "\n",
    "Pitt, W.R., Montalvão, R.W. & Blundell, T.L. Polyphony: superposition independent methods for ensemble-based drug discovery. *BMC Bioinformatics* **15**, 324 (2014). https://doi.org/10.1186/1471-2105-15-324\n",
    "\n",
    "***"
   ]
  },
  {
   "cell_type": "code",
   "execution_count": 16,
   "id": "37a2f0c9-1c0e-418c-aa19-84f882b16264",
   "metadata": {},
   "source": [
    "plot = sns.jointplot(x='psi', y='phi', data=sel_names, hue='name', kind='kde', height=10)"
   ],
   "outputs": []
  },
  {
   "cell_type": "markdown",
   "id": "d9bc675c-441e-43a5-9028-e60d2658ca12",
   "metadata": {},
   "source": [
    "***\n",
    "The same is not valid for a simple Ramachandran Plot for the same dataset. Despite showing some differences between GLU and GLY residues, it is unclear what the differences imply for the protein backbone plasticity. Once one becomes experienced with the differential geometry of 3D curves, it is easy to interpret the backbone geometry.\n",
    "***"
   ]
  },
  {
   "cell_type": "markdown",
   "id": "555aeac5",
   "metadata": {},
   "source": [
    "## Creating geometric data from a BioPython parsed structure\n",
    "\n",
    "Sometimes, it is helpful to compute the geometric properties directly from a BioPython data structure.  Melodia provides functions that can parse the geometry from a parsed structure for those situations."
   ]
  },
  {
   "cell_type": "code",
   "execution_count": 17,
   "id": "0e9cea94",
   "metadata": {},
   "source": [
    "parser = PDBParser()\n",
    "name, ext = os.path.splitext(file_name)\n",
    "structure = parser.get_structure(name, file_name)"
   ],
   "outputs": []
  },
  {
   "cell_type": "markdown",
   "id": "8c6b58a9",
   "metadata": {},
   "source": [
    "### Create a Panda DataFrame from the parser"
   ]
  },
  {
   "cell_type": "code",
   "execution_count": 18,
   "id": "d20cd68c",
   "metadata": {},
   "source": [
    "dfbio = mel.geometry_from_structure(structure)\n",
    "dfbio"
   ],
   "outputs": []
  },
  {
   "cell_type": "markdown",
   "id": "9f625345",
   "metadata": {},
   "source": [
    "### Create a dictionary of attribute from the parser\n",
    "\n",
    "Storing the geometric data in a flexible, lightweight structure is advantageous for general Python programming. Melodia provides a simple dictionary that stores a convenient data class. "
   ]
  },
  {
   "cell_type": "code",
   "execution_count": 19,
   "id": "9f184ff4",
   "metadata": {},
   "source": [
    "geo_dict = mel.geometry_dict_from_structure(structure)\n",
    "geo_dict"
   ],
   "outputs": []
  },
  {
   "cell_type": "code",
   "execution_count": 20,
   "id": "37b7ab7d-f52f-4f1d-9ebc-208df05d83cf",
   "metadata": {},
   "source": [
    "# Access format 'model:chain'\n",
    "geo_dict['0:A'].residues[0]"
   ],
   "outputs": []
  },
  {
   "cell_type": "code",
   "execution_count": 21,
   "id": "75e24eff-6e0e-4df4-8819-3c5d7220c2fc",
   "metadata": {},
   "source": [
    "print(geo_dict['0:A'].residues[0].name)\n",
    "print(geo_dict['0:A'].residues[0].curvature)\n",
    "print(geo_dict['0:A'].residues[0].torsion)"
   ],
   "outputs": []
  },
  {
   "cell_type": "markdown",
   "id": "3d7e5b71-8f91-4969-8c9f-08142f9fdfca",
   "metadata": {},
   "source": [
    "## Data Storage\n",
    "\n",
    "The Geometric Data in a data frame can be stored using **Pandas** functions. Additionally, the data in a dictionary can be stored in a file (pickled) using the **Dill library** (https://github.com/uqfoundation/dill)."
   ]
  },
  {
   "cell_type": "code",
   "execution_count": 22,
   "id": "7a2686bf-5ff0-4c95-98c2-9f4c323b76c2",
   "metadata": {},
   "source": [
    "dfbio.to_parquet('dfbio.parquet.gzip', compression='gzip')"
   ],
   "outputs": []
  },
  {
   "cell_type": "code",
   "execution_count": 23,
   "id": "4302a713-a756-496f-851a-b8611ffb5604",
   "metadata": {},
   "source": [
    "dfbio_loaded = pd.read_parquet('dfbio.parquet.gzip')\n",
    "dfbio_loaded"
   ],
   "outputs": []
  },
  {
   "cell_type": "code",
   "execution_count": 27,
   "id": "62cafa7a-37b6-4d97-8299-a679323628d9",
   "metadata": {},
   "source": [
    "# Save dictionary to a file\n",
    "with open('geo.dill', 'wb') as file:\n",
    "    dill.dump(geo_dict, file)"
   ],
   "outputs": []
  },
  {
   "cell_type": "code",
   "execution_count": 28,
   "id": "ab757d85-b792-465d-a5ab-af55cc05d2b8",
   "metadata": {},
   "source": [
    "# Load dictionary from a file\n",
    "with open('geo.dill', 'rb') as file:\n",
    "    geo_dict_loaded = dill.load(file)"
   ],
   "outputs": []
  },
  {
   "cell_type": "code",
   "execution_count": 29,
   "id": "abd5d9ee-bc21-4a9b-af34-4afde02770b5",
   "metadata": {},
   "source": [
    "geo_dict_loaded['0:A'].residues[0]"
   ],
   "outputs": []
  },
  {
   "cell_type": "markdown",
   "id": "8b446a6d-8720-4430-aceb-57fa6285e0c5",
   "metadata": {},
   "source": [
    "## Advanced Visualization"
   ]
  },
  {
   "cell_type": "markdown",
   "id": "42caaf15",
   "metadata": {},
   "source": [
    "When using a BioPython structure object, Melodia can set its b-factor values as any geometric attribute. It permits us to visualize the value of the geometric descriptor as colours and radius project into the protein backbone.\n",
    "\n",
    "We use the nglview widget for visualization (https://github.com/nglviewer/nglview)."
   ]
  },
  {
   "cell_type": "code",
   "execution_count": 30,
   "id": "8a2cfc22",
   "metadata": {},
   "source": [
    "mel.bfactor_from_geo(structure=structure, attribute='curvature', geo=geo_dict)\n",
    "mel.bfactor_from_geo(structure=structure, attribute='torsion', geo=geo_dict)"
   ],
   "outputs": []
  },
  {
   "cell_type": "markdown",
   "id": "4bb275ec",
   "metadata": {},
   "source": [
    "### View structure as a putty model"
   ]
  },
  {
   "cell_type": "code",
   "execution_count": 31,
   "id": "8b0904e3",
   "metadata": {},
   "source": [
    "mel.view_putty(structure[0], radius_scale=1.4, width=800, height=600)"
   ],
   "outputs": []
  },
  {
   "cell_type": "markdown",
   "id": "91548811-9c4f-49f6-94d0-136b79df9544",
   "metadata": {},
   "source": [
    "### View structure as a cartoon"
   ]
  },
  {
   "cell_type": "code",
   "execution_count": 32,
   "id": "285f652c-b4e6-407d-b6eb-f90cd3f07e44",
   "metadata": {},
   "source": [
    "mel.view_cartoon(structure[0], width=800, height=600)"
   ],
   "outputs": []
  },
  {
   "cell_type": "markdown",
   "id": "bb6545a2-5242-46ee-ac4d-af337cf36b37",
   "metadata": {},
   "source": [
    "### View structure as a tube model"
   ]
  },
  {
   "cell_type": "code",
   "execution_count": 33,
   "id": "ded022af-5030-416a-a437-5820475323db",
   "metadata": {},
   "source": [
    "mel.view_tube(structure[0], width=800, height=600)"
   ],
   "outputs": []
  },
  {
   "cell_type": "markdown",
   "id": "cfb56116",
   "metadata": {},
   "source": [
    "### Save the structure to a PDB file with the new bfactors\n",
    "\n"
   ]
  },
  {
   "cell_type": "code",
   "execution_count": 35,
   "id": "cbbc5d98",
   "metadata": {},
   "source": [
    "io = PDBIO()\n",
    "io.set_structure(structure)\n",
    "io.save('out.pdb')"
   ],
   "outputs": []
  },
  {
   "cell_type": "markdown",
   "id": "5cb124a5-307d-4917-8503-ab57541f7639",
   "metadata": {},
   "source": [
    "After loading the PDB file in PyMol, the following command will create the correct visualization for the differential geometry:\n",
    "\n",
    "1. show cartoon\n",
    "2. cartoon putty\n",
    "3. unset cartoon_smooth_loops\n",
    "4. unset cartoon_flat_sheets\n",
    "5. spectrum b"
   ]
  },
  {
   "cell_type": "markdown",
   "id": "a18fe1d8-61cf-4a41-b524-78180f42aa84",
   "metadata": {},
   "source": [
    "![PyMolImage](out.png)"
   ]
  },
  {
   "cell_type": "markdown",
   "id": "cfbdafbe-2b1b-4600-a4a7-2f47714dbe19",
   "metadata": {},
   "source": [
    "## Access the Propensity Table for a target residue\n",
    "\n",
    "Lastly, Melodia includes **Environmentally Constrained Amino Acid Propensity Tables**. These tables, divided into six *φ/ψ* areas, indicate the propensity for a residue to be replaced by another in a specific conformation. It is a very advanced topic discussed in the following articles:\n",
    "\n",
    "\n",
    "1. Rinaldo W. Montalvão, Richard E. Smith, Simon C. Lovell, Tom L. Blundell, CHORAL: a differential geometry approach to the prediction of the cores of protein structures, *Bioinformatics*, Volume 21, Issue 19, January 2005, Pages 3719–3725, https://doi.org/10.1093/bioinformatics/bti595\n",
    "\n",
    "2. Deane CM, Blundell TL. CODA: a combined algorithm for predicting the structurally variable regions of protein models. *Protein Sci.* 2001 Mar;10(3):599-612. https://doi.org/10.1110/ps.37601"
   ]
  },
  {
   "cell_type": "code",
   "execution_count": 32,
   "id": "a5627221-18df-4ca2-b675-aea1d2fa248f",
   "metadata": {},
   "source": [
    "ptable = mel.PropensityTable()"
   ],
   "outputs": []
  },
  {
   "cell_type": "code",
   "execution_count": 33,
   "id": "da767c6a-01ea-438d-a263-5d8416135fe6",
   "metadata": {},
   "source": [
    "phi = -82.0\n",
    "psi =  55.0\n",
    "ptable.get_score(target='F', residue='A', phi=phi, psi=psi)"
   ],
   "outputs": []
  }
 ],
 "metadata": {
  "kernelspec": {
   "display_name": "Python 3 (ipykernel)",
   "language": "python",
   "name": "python3"
  },
  "language_info": {
   "codemirror_mode": {
    "name": "ipython",
    "version": 3
   },
   "file_extension": ".py",
   "mimetype": "text/x-python",
   "name": "python",
   "nbconvert_exporter": "python",
   "pygments_lexer": "ipython3",
   "version": "3.9.16"
  },
  "toc-autonumbering": true
 },
 "nbformat": 4,
 "nbformat_minor": 5
}
