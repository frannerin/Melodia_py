{
 "cells": [
  {
   "cell_type": "markdown",
   "id": "fed03c08-d374-4725-b73e-444569c138d8",
   "metadata": {},
   "source": [
    "# Melodia: A Python Library for Protein Structure and Dynamics Analysis\n",
    "\n",
    "## Structure Similarity Analysis"
   ]
  },
  {
   "cell_type": "code",
   "execution_count": 1,
   "id": "d62ae12c-eefd-4f10-83a2-025c9e3e0844",
   "metadata": {},
   "outputs": [
    {
     "data": {
      "application/vnd.jupyter.widget-view+json": {
       "model_id": "35993b46109e44f297e0cca8fa5ed008",
       "version_major": 2,
       "version_minor": 0
      },
      "text/plain": []
     },
     "metadata": {},
     "output_type": "display_data"
    }
   ],
   "source": [
    "import warnings\n",
    "\n",
    "import dill\n",
    "\n",
    "import numpy as np\n",
    "import pandas as pd\n",
    "import melodia as mel\n",
    "import seaborn as sns\n",
    "import matplotlib.pyplot as plt\n",
    "\n",
    "from os import path\n",
    "from math import sqrt\n",
    "\n",
    "from sklearn.preprocessing import StandardScaler\n",
    "\n",
    "from Bio.PDB.PDBExceptions import PDBConstructionWarning\n",
    "\n",
    "\n",
    "from scipy.cluster.hierarchy import dendrogram\n",
    "\n",
    "from sklearn.cluster import AgglomerativeClustering"
   ]
  },
  {
   "cell_type": "code",
   "execution_count": 2,
   "id": "2812d0e4-e436-4d0a-8e8a-53ff657ede24",
   "metadata": {},
   "outputs": [],
   "source": [
    "def plot_dendrogram(model, **kwargs):\n",
    "    # Create linkage matrix and then plot the dendrogram\n",
    "\n",
    "    # create the counts of samples under each node\n",
    "    counts = np.zeros(model.children_.shape[0])\n",
    "    n_samples = len(model.labels_)\n",
    "    for i, merge in enumerate(model.children_):\n",
    "        current_count = 0\n",
    "        for child_idx in merge:\n",
    "            if child_idx < n_samples:\n",
    "                current_count += 1  # leaf node\n",
    "            else:\n",
    "                current_count += counts[child_idx - n_samples]\n",
    "        counts[i] = current_count\n",
    "\n",
    "    linkage_matrix = np.column_stack([model.children_, \n",
    "                                      model.distances_,\n",
    "                                      counts]).astype(float)\n",
    "\n",
    "    # Plot the corresponding dendrogram\n",
    "    dendrogram(linkage_matrix, **kwargs)"
   ]
  },
  {
   "cell_type": "code",
   "execution_count": 3,
   "id": "fe9f89dd-07ae-4b37-a295-9e9d6decef95",
   "metadata": {},
   "outputs": [],
   "source": [
    "warnings.filterwarnings(\"ignore\", category=PDBConstructionWarning)"
   ]
  },
  {
   "cell_type": "markdown",
   "id": "d2e343cc-13c5-4cbb-824c-4ce8347197b4",
   "metadata": {},
   "source": [
    "### Parser an alignment in the PIR file format"
   ]
  },
  {
   "cell_type": "code",
   "execution_count": 4,
   "id": "70f59e69-cbe1-4d03-8e1e-f838472beb93",
   "metadata": {},
   "outputs": [],
   "source": [
    "# Dill can be used for storage\n",
    "if path.exists('model.dill'):\n",
    "    with open('model.dill', 'rb') as file:\n",
    "        align = dill.load(file)\n",
    "else:\n",
    "    align = mel.parser_pir_file('model.ali')\n",
    "    with open('model.dill', 'wb') as file:\n",
    "        dill.dump(align, file)"
   ]
  },
  {
   "cell_type": "code",
   "execution_count": 5,
   "id": "42472a9b-0add-41d8-881c-9d24b2289356",
   "metadata": {},
   "outputs": [],
   "source": [
    "data = []\n",
    "id2pos = {}\n",
    "for pos, record in enumerate(align):\n",
    "    if 'structure' in record.description:\n",
    "        id2pos[record.id] = pos\n",
    "        for pair in zip(record.letter_annotations['curvature'], record.letter_annotations['torsion']):\n",
    "            data.append(list(pair))\n",
    "        record.letter_annotations['cluster'] = [0 for i in range(len(record.seq))]\n",
    "        \n",
    "scaler = StandardScaler()\n",
    "scaler.fit(data);"
   ]
  },
  {
   "cell_type": "code",
   "execution_count": 13,
   "id": "146b71dd-4b80-47a7-9cca-8e7583215dee",
   "metadata": {},
   "outputs": [],
   "source": [
    "i = 0\n",
    "xy = []\n",
    "tags = []\n",
    "for id, pos in id2pos.items():\n",
    "    record = align[pos]\n",
    "    if record.seq[i] != '-':\n",
    "        xy.append([record.letter_annotations['curvature'][i], record.letter_annotations['torsion'][i]])\n",
    "        tags.append(id)\n",
    "    \n",
    "xy = scaler.transform(xy)"
   ]
  },
  {
   "cell_type": "code",
   "execution_count": 14,
   "id": "030adeff-c82e-415c-8c76-0d5d6b9687ac",
   "metadata": {},
   "outputs": [
    {
     "data": {
      "image/png": "[encoded data removed]",
      "text/plain": [
       "<Figure size 432x288 with 1 Axes>"
      ]
     },
     "metadata": {
      "needs_background": "light"
     },
     "output_type": "display_data"
    }
   ],
   "source": [
    "plt.scatter([i[0] for i in xy], [i[1] for i in xy]);"
   ]
  },
  {
   "cell_type": "code",
   "execution_count": 15,
   "id": "d9994850-85a0-4e28-98ef-21a3e2f22326",
   "metadata": {},
   "outputs": [
    {
     "data": {
      "image/png": "[encoded data removed]",
      "text/plain": [
       "<Figure size 432x288 with 1 Axes>"
      ]
     },
     "metadata": {
      "needs_background": "light"
     },
     "output_type": "display_data"
    }
   ],
   "source": [
    "def llf(xx):\n",
    "    return f'{tags[xx]}'\n",
    "\n",
    "# setting distance_threshold=0 ensures we compute the full tree.\n",
    "model = AgglomerativeClustering(distance_threshold=0, n_clusters=None)\n",
    "\n",
    "model = model.fit(xy)\n",
    "plt.title('Hierarchical Clustering Dendrogram')\n",
    "# plot the top three levels of the dendrogram\n",
    "plot_dendrogram(model, truncate_mode='level', p=3, leaf_label_func=llf)\n",
    "plt.xlabel('structure')\n",
    "plt.show()"
   ]
  },
  {
   "cell_type": "code",
   "execution_count": 16,
   "id": "38da83ae-bd4b-481f-b295-e7b8e0d09af4",
   "metadata": {},
   "outputs": [],
   "source": [
    "clustering = AgglomerativeClustering(distance_threshold=0.7, n_clusters=None)"
   ]
  },
  {
   "cell_type": "code",
   "execution_count": 17,
   "id": "e85d7164-8e0c-4cfd-90e8-eb65ce4dfe40",
   "metadata": {},
   "outputs": [],
   "source": [
    "for i in range(align.get_alignment_length()):\n",
    "    xy = []\n",
    "    tags = []\n",
    "    for id, pos in id2pos.items():\n",
    "        record = align[pos]\n",
    "        if record.seq[i] != '-':\n",
    "            xy.append([record.letter_annotations['curvature'][i], record.letter_annotations['torsion'][i]])\n",
    "            tags.append(id)\n",
    "\n",
    "    xy = scaler.transform(xy)\n",
    "\n",
    "    clusters = clustering.fit_predict(xy)\n",
    "\n",
    "    map_of_clusters = {pair[0]: pair[1]+1 for pair in zip(tags, clusters)}\n",
    "\n",
    "    for id, pos in id2pos.items():\n",
    "        record = align[pos]\n",
    "        if id in map_of_clusters:\n",
    "            record.letter_annotations['cluster'][i] = map_of_clusters[id]\n",
    "            # print(id, record.letter_annotations['cluster'][i])"
   ]
  },
  {
   "cell_type": "code",
   "execution_count": 18,
   "id": "5829ada4-b706-4167-88e7-36518cd442e6",
   "metadata": {},
   "outputs": [],
   "source": [
    "record = align[0]"
   ]
  },
  {
   "cell_type": "code",
   "execution_count": 19,
   "id": "33e40368-e003-49e3-b28f-2cab93e47a5c",
   "metadata": {},
   "outputs": [
    {
     "name": "stdout",
     "output_type": "stream",
     "text": [
      "3huda [1, 1, 1, 2, 1, 1, 1, 1, 1, 1, 1, 1, 1, 2, 1, 1, 1, 1, 1, 1, 1, 2, 1, 1, 1, 1, 1, 1, 1, 1, 1, 1, 1, 2, 1, 1, 1, 1, 1, 1, 1, 1, 1, 1, 1, 1, 1, 1, 1, 1, 1, 1, 1, 3, 2, 2, 2, 3, 2, 1, 3, 2, 2, 1, 1, 1, 1, 1, 1, 1, 1, 2, 1, 1, 1, 1, 1, 1, 1, 1, 1, 1, 1, 1, 2, 1, 1, 1, 1, 1, 1, 1, 1, 2, 1, 4, 2, 3, 1, 1, 1, 1, 1, 1, 1, 2, 1, 1, 2, 3, 2, 3, 3, 3, 1, 2, 1, 1, 2, 1, 1, 1, 2, 2, 2, 2, 2, 1, 2, 1, 1, 1, 1, 1, 1, 1, 1, 1, 1, 1, 1, 1, 1, 1, 1, 1, 1, 1, 1, 1, 1, 1, 1, 1, 2, 1, 1, 1, 1, 1, 1, 1, 1, 1, 1, 1, 1, 1, 1, 1, 1, 1, 1, 1, 1, 1, 1, 1, 1, 1, 1, 1, 1, 1, 1, 1, 1, 1, 2, 1, 1, 1, 1, 1, 1, 1, 1, 1, 1, 1, 2, 1, 1, 1, 1, 1, 1, 1, 1, 1, 1, 1, 1, 1, 1, 1, 1, 1, 1, 1, 1, 1, 1, 1, 1, 1, 1, 1, 1, 1, 1, 1, 1, 1, 1, 1, 1, 1, 2, 1, 1, 1, 1, 1, 1, 1, 1, 1, 1, 1, 1, 1, 1, 1, 1, 1, 1, 1, 1, 1, 2, 1, 1, 1, 1, 1, 1, 1, 1, 1, 2, 1, 1, 1, 1, 1, 1, 1, 1, 1, 1, 2, 1, 2, 2, 1, 1, 1, 1, 1, 2, 1, 1, 1, 2, 2, 2, 2, 0, 2, 4, 5, 1, 1, 2, 1, 1, 1, 1, 1, 1, 1, 1, 4, 3, 1, 3, 2, 1, 1, 1, 1, 1, 3, 1, 1, 1, 1, 1, 1, 1, 1, 1, 1, 1, 1, 1, 1, 1, 1, 1, 2, 2, 2, 1, 1, 1, 1, 2, 2, 1, 1, 1, 1, 1, 1, 1, 1, 1, 1, 1, 1, 1, 1, 1, 1, 2, 1, 1, 2, 1, 1, 1, 2, 2]\n"
     ]
    }
   ],
   "source": [
    "print(id, record.letter_annotations['cluster'])"
   ]
  },
  {
   "cell_type": "code",
   "execution_count": null,
   "id": "4210019e-3716-43e2-bb94-f8be963176c1",
   "metadata": {},
   "outputs": [],
   "source": []
  }
 ],
 "metadata": {
  "kernelspec": {
   "display_name": "Python 3 (ipykernel)",
   "language": "python",
   "name": "python3"
  },
  "language_info": {
   "codemirror_mode": {
    "name": "ipython",
    "version": 3
   },
   "file_extension": ".py",
   "mimetype": "text/x-python",
   "name": "python",
   "nbconvert_exporter": "python",
   "pygments_lexer": "ipython3",
   "version": "3.9.10"
  }
 },
 "nbformat": 4,
 "nbformat_minor": 5
}
