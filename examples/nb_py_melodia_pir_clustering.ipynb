{
 "cells": [
  {
   "cell_type": "markdown",
   "id": "fed03c08-d374-4725-b73e-444569c138d8",
   "metadata": {},
   "source": [
    "# Melodia: A Python Library for Protein Structure and Dynamics Analysis\n",
    "\n",
    "## Structure Similarity Analysis"
   ]
  },
  {
   "cell_type": "code",
   "execution_count": 1,
   "id": "d62ae12c-eefd-4f10-83a2-025c9e3e0844",
   "metadata": {},
   "outputs": [
    {
     "data": {
      "application/vnd.jupyter.widget-view+json": {
       "model_id": "9940afac02cf42c3a2c970dc98785709",
       "version_major": 2,
       "version_minor": 0
      },
      "text/plain": []
     },
     "metadata": {},
     "output_type": "display_data"
    }
   ],
   "source": [
    "import dill\n",
    "import warnings\n",
    "\n",
    "import melodia as mel\n",
    "import seaborn as sns\n",
    "\n",
    "from os import path\n",
    "\n",
    "from Bio.PDB.PDBExceptions import PDBConstructionWarning"
   ]
  },
  {
   "cell_type": "code",
   "execution_count": 2,
   "id": "fe9f89dd-07ae-4b37-a295-9e9d6decef95",
   "metadata": {},
   "outputs": [],
   "source": [
    "warnings.filterwarnings(\"ignore\", category=PDBConstructionWarning)"
   ]
  },
  {
   "cell_type": "markdown",
   "id": "d2e343cc-13c5-4cbb-824c-4ce8347197b4",
   "metadata": {},
   "source": [
    "### Parser an alignment in the PIR file format"
   ]
  },
  {
   "cell_type": "code",
   "execution_count": 3,
   "id": "70f59e69-cbe1-4d03-8e1e-f838472beb93",
   "metadata": {},
   "outputs": [],
   "source": [
    "# Dill can be used for storage\n",
    "if path.exists('model.dill'):\n",
    "    with open('model.dill', 'rb') as file:\n",
    "        align = dill.load(file)\n",
    "else:\n",
    "    align = mel.parser_pir_file('model.ali')\n",
    "    with open('model.dill', 'wb') as file:\n",
    "        dill.dump(align, file)"
   ]
  },
  {
   "cell_type": "code",
   "execution_count": 4,
   "id": "e0c618f8-569a-4452-9d82-d731620041b1",
   "metadata": {},
   "outputs": [
    {
     "data": {
      "text/html": [
       "<svg  width=\"330\" height=\"55\"><rect x=\"0\" y=\"0\" width=\"55\" height=\"55\" style=\"fill:#fee5c3;stroke-width:2;stroke:rgb(255,255,255)\"/><rect x=\"55\" y=\"0\" width=\"55\" height=\"55\" style=\"fill:#fdcd96;stroke-width:2;stroke:rgb(255,255,255)\"/><rect x=\"110\" y=\"0\" width=\"55\" height=\"55\" style=\"fill:#fda872;stroke-width:2;stroke:rgb(255,255,255)\"/><rect x=\"165\" y=\"0\" width=\"55\" height=\"55\" style=\"fill:#f4764f;stroke-width:2;stroke:rgb(255,255,255)\"/><rect x=\"220\" y=\"0\" width=\"55\" height=\"55\" style=\"fill:#de3f2b;stroke-width:2;stroke:rgb(255,255,255)\"/><rect x=\"275\" y=\"0\" width=\"55\" height=\"55\" style=\"fill:#b80604;stroke-width:2;stroke:rgb(255,255,255)\"/></svg>"
      ],
      "text/plain": [
       "[(0.9955709342560554, 0.8996539792387543, 0.7629988465974625),\n",
       " (0.9921568627450981, 0.8029219530949635, 0.5900192233756247),\n",
       " (0.9905113417916186, 0.6576393694732795, 0.4468896578239139),\n",
       " (0.9586466743560169, 0.4618992695117263, 0.3103267973856209),\n",
       " (0.8704498269896194, 0.2485505574778931, 0.16822760476739718),\n",
       " (0.7202306805074971, 0.02435986159169551, 0.015732410611303344)]"
      ]
     },
     "execution_count": 4,
     "metadata": {},
     "output_type": "execute_result"
    }
   ],
   "source": [
    "palette='OrRd'\n",
    "colours=6\n",
    "sns.color_palette(palette, colours)"
   ]
  },
  {
   "cell_type": "code",
   "execution_count": 5,
   "id": "143b1cea-933e-4a5f-a561-16250c5f8ad0",
   "metadata": {},
   "outputs": [],
   "source": [
    "mel.cluster_alignment(align=align, threshold=1.3, long=Fals)"
   ]
  },
  {
   "cell_type": "code",
   "execution_count": 6,
   "id": "e69c92ec-05e3-4d23-8469-87c2744eb0ae",
   "metadata": {},
   "outputs": [],
   "source": [
    "mel.save_align_to_ps(align=align, ps_file='model', palette=palette, colours=colours)"
   ]
  },
  {
   "cell_type": "code",
   "execution_count": 7,
   "id": "c73a422f-6b08-462b-8d32-f79a5970b71f",
   "metadata": {},
   "outputs": [],
   "source": [
    "mel.save_pymol_script(align=align, pml_file='clusters_model', palette=palette, colours=colours)"
   ]
  },
  {
   "cell_type": "code",
   "execution_count": null,
   "id": "15cb50b3-f1d7-4ccf-b044-4810c38b5816",
   "metadata": {},
   "outputs": [],
   "source": []
  },
  {
   "cell_type": "code",
   "execution_count": null,
   "id": "83775c23-e39f-47e8-bf7c-195bbe175ef6",
   "metadata": {},
   "outputs": [],
   "source": []
  }
 ],
 "metadata": {
  "kernelspec": {
   "display_name": "Python 3 (ipykernel)",
   "language": "python",
   "name": "python3"
  },
  "language_info": {
   "codemirror_mode": {
    "name": "ipython",
    "version": 3
   },
   "file_extension": ".py",
   "mimetype": "text/x-python",
   "name": "python",
   "nbconvert_exporter": "python",
   "pygments_lexer": "ipython3",
   "version": "3.9.10"
  }
 },
 "nbformat": 4,
 "nbformat_minor": 5
}
