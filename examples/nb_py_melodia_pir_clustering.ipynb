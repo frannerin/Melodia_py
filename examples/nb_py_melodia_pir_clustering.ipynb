{
 "cells": [
  {
   "cell_type": "markdown",
   "id": "fed03c08-d374-4725-b73e-444569c138d8",
   "metadata": {},
   "source": [
    "# Melodia: A Python Library for Protein Structure and Dynamics Analysis\n",
    "\n",
    "## Structure Similarity Analysis"
   ]
  },
  {
   "cell_type": "code",
   "execution_count": 1,
   "id": "d62ae12c-eefd-4f10-83a2-025c9e3e0844",
   "metadata": {},
   "outputs": [
    {
     "data": {
      "application/vnd.jupyter.widget-view+json": {
       "model_id": "699eb9d2dc4b4392b6ab379ee1a4acd1",
       "version_major": 2,
       "version_minor": 0
      },
      "text/plain": []
     },
     "metadata": {},
     "output_type": "display_data"
    }
   ],
   "source": [
    "import warnings\n",
    "\n",
    "import dill\n",
    "\n",
    "import numpy as np\n",
    "import pandas as pd\n",
    "import melodia as mel\n",
    "import seaborn as sns\n",
    "import matplotlib.pyplot as plt\n",
    "\n",
    "from os import path\n",
    "from math import sqrt\n",
    "\n",
    "from sklearn.preprocessing import StandardScaler\n",
    "\n",
    "from Bio.PDB.PDBExceptions import PDBConstructionWarning\n",
    "\n",
    "\n",
    "from scipy.cluster.hierarchy import dendrogram\n",
    "\n",
    "from sklearn.cluster import AgglomerativeClustering"
   ]
  },
  {
   "cell_type": "code",
   "execution_count": 2,
   "id": "fe9f89dd-07ae-4b37-a295-9e9d6decef95",
   "metadata": {},
   "outputs": [],
   "source": [
    "warnings.filterwarnings(\"ignore\", category=PDBConstructionWarning)"
   ]
  },
  {
   "cell_type": "markdown",
   "id": "d2e343cc-13c5-4cbb-824c-4ce8347197b4",
   "metadata": {},
   "source": [
    "### Parser an alignment in the PIR file format"
   ]
  },
  {
   "cell_type": "code",
   "execution_count": 3,
   "id": "70f59e69-cbe1-4d03-8e1e-f838472beb93",
   "metadata": {},
   "outputs": [],
   "source": [
    "# Dill can be used for storage\n",
    "if path.exists('model.dill'):\n",
    "    with open('model.dill', 'rb') as file:\n",
    "        align = dill.load(file)\n",
    "else:\n",
    "    align = mel.parser_pir_file('model.ali')\n",
    "    with open('model.dill', 'wb') as file:\n",
    "        dill.dump(align, file)"
   ]
  },
  {
   "cell_type": "code",
   "execution_count": 4,
   "id": "143b1cea-933e-4a5f-a561-16250c5f8ad0",
   "metadata": {},
   "outputs": [],
   "source": [
    "mel.cluster_alignment(align=align)"
   ]
  },
  {
   "cell_type": "code",
   "execution_count": 5,
   "id": "5829ada4-b706-4167-88e7-36518cd442e6",
   "metadata": {},
   "outputs": [],
   "source": [
    "record = align[0]"
   ]
  },
  {
   "cell_type": "code",
   "execution_count": 6,
   "id": "33e40368-e003-49e3-b28f-2cab93e47a5c",
   "metadata": {},
   "outputs": [
    {
     "name": "stdout",
     "output_type": "stream",
     "text": [
      "1cdoa [1, 1, 1, 2, 1, 1, 1, 1, 1, 1, 1, 1, 1, 2, 1, 1, 1, 1, 1, 1, 1, 2, 1, 1, 1, 1, 1, 1, 1, 1, 1, 1, 1, 2, 1, 1, 1, 1, 1, 1, 1, 1, 1, 1, 1, 1, 1, 1, 1, 1, 1, 1, 1, 3, 2, 2, 2, 3, 2, 1, 3, 2, 2, 1, 1, 1, 1, 1, 1, 1, 1, 2, 1, 1, 1, 1, 1, 1, 1, 1, 1, 1, 1, 1, 2, 1, 1, 1, 1, 1, 1, 1, 1, 2, 1, 4, 2, 3, 1, 1, 1, 1, 1, 1, 1, 2, 1, 1, 2, 3, 2, 3, 3, 3, 1, 2, 1, 1, 2, 1, 1, 1, 2, 2, 2, 2, 2, 1, 2, 1, 1, 1, 1, 1, 1, 1, 1, 1, 1, 1, 1, 1, 1, 1, 1, 1, 1, 1, 1, 1, 1, 1, 1, 1, 2, 1, 1, 1, 1, 1, 1, 1, 1, 1, 1, 1, 1, 1, 1, 1, 1, 1, 1, 1, 1, 1, 1, 1, 1, 1, 1, 1, 1, 1, 1, 1, 1, 1, 2, 1, 1, 1, 1, 1, 1, 1, 1, 1, 1, 1, 2, 1, 1, 1, 1, 1, 1, 1, 1, 1, 1, 1, 1, 1, 1, 1, 1, 1, 1, 1, 1, 1, 1, 1, 1, 1, 1, 1, 1, 1, 1, 1, 1, 1, 1, 1, 1, 1, 2, 1, 1, 1, 1, 1, 1, 1, 1, 1, 1, 1, 1, 1, 1, 1, 1, 1, 1, 1, 1, 1, 2, 1, 1, 1, 1, 1, 1, 1, 1, 1, 2, 1, 1, 1, 1, 1, 1, 1, 1, 1, 1, 2, 1, 2, 2, 1, 1, 1, 1, 1, 2, 1, 1, 1, 2, 2, 2, 2, 0, 2, 4, 5, 1, 1, 2, 1, 1, 1, 1, 1, 1, 1, 1, 4, 3, 1, 3, 2, 1, 1, 1, 1, 1, 3, 1, 1, 1, 1, 1, 1, 1, 1, 1, 1, 1, 1, 1, 1, 1, 1, 1, 2, 2, 2, 1, 1, 1, 1, 2, 2, 1, 1, 1, 1, 1, 1, 1, 1, 1, 1, 1, 1, 1, 1, 1, 1, 2, 1, 1, 2, 1, 1, 1, 2, 2]\n"
     ]
    }
   ],
   "source": [
    "print(record.id, record.letter_annotations['cluster'])"
   ]
  },
  {
   "cell_type": "code",
   "execution_count": 8,
   "id": "b7665d9f-27e3-459f-8b41-41b798136106",
   "metadata": {},
   "outputs": [],
   "source": [
    "mel.save_align_to_ps(align=align, ps_file='model')"
   ]
  },
  {
   "cell_type": "code",
   "execution_count": null,
   "id": "f13f7619-8fab-4bbe-bea9-f47683f35902",
   "metadata": {},
   "outputs": [],
   "source": []
  }
 ],
 "metadata": {
  "kernelspec": {
   "display_name": "Python 3 (ipykernel)",
   "language": "python",
   "name": "python3"
  },
  "language_info": {
   "codemirror_mode": {
    "name": "ipython",
    "version": 3
   },
   "file_extension": ".py",
   "mimetype": "text/x-python",
   "name": "python",
   "nbconvert_exporter": "python",
   "pygments_lexer": "ipython3",
   "version": "3.9.7"
  }
 },
 "nbformat": 4,
 "nbformat_minor": 5
}
