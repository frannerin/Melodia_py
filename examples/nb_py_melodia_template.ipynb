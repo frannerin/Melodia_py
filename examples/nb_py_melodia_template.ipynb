{
 "cells": [
  {
   "cell_type": "markdown",
   "id": "13a2364a",
   "metadata": {},
   "source": [
    "# Melodia: A Python Library for Protein Structure and Dynamics Analysis\n",
    "\n",
    "## Examples"
   ]
  },
  {
   "cell_type": "code",
   "execution_count": null,
   "id": "c382356c",
   "metadata": {},
   "outputs": [],
   "source": [
    "import os \n",
    "import dill\n",
    "\n",
    "import numpy as np\n",
    "import seaborn as sns\n",
    "import matplotlib.pyplot as plt\n",
    "\n",
    "from Bio.PDB import PDBParser, PDBIO\n",
    "\n",
    "from sklearn.preprocessing import StandardScaler"
   ]
  },
  {
   "cell_type": "code",
   "execution_count": null,
   "id": "4686a51d-11e3-494c-9308-ed18614f473a",
   "metadata": {},
   "outputs": [],
   "source": [
    "# Import melodia library\n",
    "import melodia as mel"
   ]
  },
  {
   "cell_type": "markdown",
   "id": "fa09893e",
   "metadata": {},
   "source": [
    "## Creating a Panda Dataframe from a structure file\n",
    "\n",
    "#### Melodia allows us to import a PDB file directly into a Pandas Dataframe. "
   ]
  },
  {
   "cell_type": "code",
   "execution_count": null,
   "id": "88178465-7b44-4dd3-a5c9-11e333c003e2",
   "metadata": {},
   "outputs": [],
   "source": [
    "# Example with multiple chains\n",
    "file_name = '2k5x.pdb'"
   ]
  },
  {
   "cell_type": "code",
   "execution_count": null,
   "id": "7a10a5ad-1075-4400-a3e1-1a290282a694",
   "metadata": {},
   "outputs": [],
   "source": [
    "# Example with multiple models\n",
    "#file_name = '2lj5.pdb'"
   ]
  },
  {
   "cell_type": "code",
   "execution_count": null,
   "id": "714196c3-a265-417e-8f02-cbb6a3705639",
   "metadata": {},
   "outputs": [],
   "source": [
    "dfi = mel.geometry_from_structure_file(file_name)"
   ]
  },
  {
   "cell_type": "code",
   "execution_count": null,
   "id": "8c5851ff-67c7-4c33-b220-d3c67e1160b6",
   "metadata": {},
   "outputs": [],
   "source": [
    "dfi"
   ]
  },
  {
   "cell_type": "markdown",
   "id": "e5425286-bb57-4871-8890-5725fbec44f5",
   "metadata": {},
   "source": [
    "#### Select a model "
   ]
  },
  {
   "cell_type": "code",
   "execution_count": null,
   "id": "7b34111b-0c33-4f1c-8696-4bc84f2fc85e",
   "metadata": {},
   "outputs": [],
   "source": [
    "model = dfi['model'] == 0\n",
    "dfo = dfi[model].copy()"
   ]
  },
  {
   "cell_type": "code",
   "execution_count": null,
   "id": "0de660fd-a9ac-4fd1-9a0a-f633fb6607af",
   "metadata": {},
   "outputs": [],
   "source": [
    "dfo.head()"
   ]
  },
  {
   "cell_type": "markdown",
   "id": "1c7d5408-da47-4928-a79b-142b04c56e98",
   "metadata": {},
   "source": [
    "#### A Ramachandran-like plot"
   ]
  },
  {
   "cell_type": "code",
   "execution_count": null,
   "id": "345dea97-035f-4aac-8228-14ae78fe7e7f",
   "metadata": {},
   "outputs": [],
   "source": [
    "cmap = sns.color_palette(\"Blues\", as_cmap=True)\n",
    "sns.jointplot(x='curvature', y='torsion', data=dfo, kind='kde', cmap=cmap, height=10, fill=True)\n",
    "plt.show();"
   ]
  },
  {
   "cell_type": "markdown",
   "id": "8a360b83",
   "metadata": {},
   "source": [
    "#### Apply Scikit Standard Scaler to geometric attributes"
   ]
  },
  {
   "cell_type": "code",
   "execution_count": null,
   "id": "eb434010",
   "metadata": {},
   "outputs": [],
   "source": [
    "#df = dfo[(dfo['name'] == 'GLY')].copy()\n",
    "df = dfo.copy()\n",
    "features = ['curvature', 'torsion', 'arc_length', 'writhing']\n",
    "autoscaler = StandardScaler()\n",
    "df[features] = autoscaler.fit_transform(df[features])"
   ]
  },
  {
   "cell_type": "code",
   "execution_count": null,
   "id": "c82de809",
   "metadata": {},
   "outputs": [],
   "source": [
    "cmap = sns.color_palette(\"Blues\", as_cmap=True)\n",
    "#sns.jointplot(x='curvature', y='torsion', data=df, kind='kde', cmap=cmap, height=10, fill=True)\n",
    "sns.jointplot(x='curvature', y='torsion', data=df, kind='hex', cmap=cmap, height=10)\n",
    "plt.show();"
   ]
  },
  {
   "cell_type": "markdown",
   "id": "555aeac5",
   "metadata": {},
   "source": [
    "## Creating geometric data from a BioPython parsed structure"
   ]
  },
  {
   "cell_type": "code",
   "execution_count": null,
   "id": "0e9cea94",
   "metadata": {},
   "outputs": [],
   "source": [
    "parser = PDBParser()\n",
    "name, ext = os.path.splitext(file_name)\n",
    "structure = parser.get_structure(name, file_name)"
   ]
  },
  {
   "cell_type": "markdown",
   "id": "8c6b58a9",
   "metadata": {},
   "source": [
    "### Create a Panda Dataframe from the parser"
   ]
  },
  {
   "cell_type": "code",
   "execution_count": null,
   "id": "d20cd68c",
   "metadata": {},
   "outputs": [],
   "source": [
    "df = mel.geometry_from_structure(structure)\n",
    "df"
   ]
  },
  {
   "cell_type": "markdown",
   "id": "9f625345",
   "metadata": {},
   "source": [
    "### Create a dictionary of attribute from the parser"
   ]
  },
  {
   "cell_type": "code",
   "execution_count": null,
   "id": "9f184ff4",
   "metadata": {},
   "outputs": [],
   "source": [
    "geo = mel.geometry_dict_from_structure(structure)"
   ]
  },
  {
   "cell_type": "code",
   "execution_count": null,
   "id": "37b7ab7d-f52f-4f1d-9ebc-208df05d83cf",
   "metadata": {},
   "outputs": [],
   "source": [
    "# Access format 'model:chain'\n",
    "geo['0:A'].residues[0]"
   ]
  },
  {
   "cell_type": "markdown",
   "id": "3d7e5b71-8f91-4969-8c9f-08142f9fdfca",
   "metadata": {},
   "source": [
    "### The Geometric Data can be stored into a file (pickled) using the Dill library."
   ]
  },
  {
   "cell_type": "code",
   "execution_count": null,
   "id": "62cafa7a-37b6-4d97-8299-a679323628d9",
   "metadata": {},
   "outputs": [],
   "source": [
    "with open('geo.dill', 'wb') as file:\n",
    "    dill.dump(geo, file)"
   ]
  },
  {
   "cell_type": "code",
   "execution_count": null,
   "id": "ab757d85-b792-465d-a5ab-af55cc05d2b8",
   "metadata": {},
   "outputs": [],
   "source": [
    "with open('geo.dill', 'rb') as file:\n",
    "    geo_loaded = dill.load(file)"
   ]
  },
  {
   "cell_type": "code",
   "execution_count": null,
   "id": "abd5d9ee-bc21-4a9b-af34-4afde02770b5",
   "metadata": {},
   "outputs": [],
   "source": [
    "geo_loaded['0:A'].residues[0]"
   ]
  },
  {
   "cell_type": "markdown",
   "id": "42caaf15",
   "metadata": {},
   "source": [
    "### Set the b-factor as an attribute "
   ]
  },
  {
   "cell_type": "code",
   "execution_count": null,
   "id": "8a2cfc22",
   "metadata": {},
   "outputs": [],
   "source": [
    "mel.bfactor_from_geo(structure=structure, attribute='curvature', geo=geo)"
   ]
  },
  {
   "cell_type": "markdown",
   "id": "4bb275ec",
   "metadata": {},
   "source": [
    "#### View structure as a putty model"
   ]
  },
  {
   "cell_type": "code",
   "execution_count": null,
   "id": "8b0904e3",
   "metadata": {},
   "outputs": [],
   "source": [
    "#mel.view_putty(structure)\n",
    "mel.view_putty(structure[0], radius_scale=1.4, width=800, height=600)"
   ]
  },
  {
   "cell_type": "code",
   "execution_count": null,
   "id": "285f652c-b4e6-407d-b6eb-f90cd3f07e44",
   "metadata": {},
   "outputs": [],
   "source": [
    "mel.view_cartoon(structure[0], width=800, height=600)"
   ]
  },
  {
   "cell_type": "code",
   "execution_count": null,
   "id": "ded022af-5030-416a-a437-5820475323db",
   "metadata": {},
   "outputs": [],
   "source": [
    "mel.view_tube(structure[0], width=800, height=600)"
   ]
  },
  {
   "cell_type": "markdown",
   "id": "cfb56116",
   "metadata": {},
   "source": [
    "### Save the structure to a PDB file with the new bfactors"
   ]
  },
  {
   "cell_type": "code",
   "execution_count": null,
   "id": "cbbc5d98",
   "metadata": {},
   "outputs": [],
   "source": [
    "io = PDBIO()\n",
    "io.set_structure(structure)\n",
    "io.save('out.pdb')"
   ]
  },
  {
   "cell_type": "markdown",
   "id": "cfbdafbe-2b1b-4600-a4a7-2f47714dbe19",
   "metadata": {},
   "source": [
    "## Acess the Propensity Table for a target residue"
   ]
  },
  {
   "cell_type": "code",
   "execution_count": null,
   "id": "a5627221-18df-4ca2-b675-aea1d2fa248f",
   "metadata": {},
   "outputs": [],
   "source": [
    "ptable = mel.PropensityTable()"
   ]
  },
  {
   "cell_type": "code",
   "execution_count": null,
   "id": "da767c6a-01ea-438d-a263-5d8416135fe6",
   "metadata": {},
   "outputs": [],
   "source": [
    "phi = -82.0\n",
    "psi =  55.0\n",
    "ptable.get_score(target='F', residue='A', phi=phi, psi=psi)"
   ]
  },
  {
   "cell_type": "code",
   "execution_count": null,
   "id": "06badff1-6d93-4fee-a70f-bf74ad5c32d4",
   "metadata": {},
   "outputs": [],
   "source": []
  }
 ],
 "metadata": {
  "kernelspec": {
   "display_name": "Python 3 (ipykernel)",
   "language": "python",
   "name": "python3"
  },
  "language_info": {
   "codemirror_mode": {
    "name": "ipython",
    "version": 3
   },
   "file_extension": ".py",
   "mimetype": "text/x-python",
   "name": "python",
   "nbconvert_exporter": "python",
   "pygments_lexer": "ipython3",
   "version": "3.9.13"
  }
 },
 "nbformat": 4,
 "nbformat_minor": 5
}
