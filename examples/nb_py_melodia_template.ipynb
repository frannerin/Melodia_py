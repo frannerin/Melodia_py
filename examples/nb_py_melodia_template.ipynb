{
 "cells": [
  {
   "cell_type": "markdown",
   "id": "13a2364a",
   "metadata": {},
   "source": [
    "# Melodia: A Python Library for Protein Structure and Dynamics Analysis\n",
    "\n",
    "## Examples"
   ]
  },
  {
   "cell_type": "code",
   "execution_count": 30,
   "id": "c382356c",
   "metadata": {},
   "outputs": [],
   "source": [
    "import os \n",
    "\n",
    "import dill as pickle\n",
    "import numpy as np\n",
    "import seaborn as sns\n",
    "import matplotlib.pyplot as plt\n",
    "\n",
    "from Bio.PDB import PDBParser, PDBIO\n",
    "\n",
    "from sklearn.preprocessing import StandardScaler"
   ]
  },
  {
   "cell_type": "code",
   "execution_count": 2,
   "id": "4686a51d-11e3-494c-9308-ed18614f473a",
   "metadata": {},
   "outputs": [
    {
     "data": {
      "application/vnd.jupyter.widget-view+json": {
       "model_id": "006eea624b724066bf07d661ef2ce36f",
       "version_major": 2,
       "version_minor": 0
      },
      "text/plain": []
     },
     "metadata": {},
     "output_type": "display_data"
    }
   ],
   "source": [
    "# Import melodia library\n",
    "import melodia as mel"
   ]
  },
  {
   "cell_type": "markdown",
   "id": "fa09893e",
   "metadata": {},
   "source": [
    "## Creating a Panda Dataframe from a structure file\n",
    "\n",
    "#### Melodia allows us to import a PDB file directly into a Pandas Dataframe. "
   ]
  },
  {
   "cell_type": "code",
   "execution_count": 3,
   "id": "88178465-7b44-4dd3-a5c9-11e333c003e2",
   "metadata": {},
   "outputs": [],
   "source": [
    "# Example with multiple chains\n",
    "#file_name = '2k5x.pdb'"
   ]
  },
  {
   "cell_type": "code",
   "execution_count": 23,
   "id": "7a10a5ad-1075-4400-a3e1-1a290282a694",
   "metadata": {},
   "outputs": [],
   "source": [
    "# Example with multiple models\n",
    "file_name = '2lj5.pdb'"
   ]
  },
  {
   "cell_type": "code",
   "execution_count": 5,
   "id": "714196c3-a265-417e-8f02-cbb6a3705639",
   "metadata": {},
   "outputs": [],
   "source": [
    "dfi = mel.geometry_from_structure_file(file_name)"
   ]
  },
  {
   "cell_type": "code",
   "execution_count": 6,
   "id": "8c5851ff-67c7-4c33-b220-d3c67e1160b6",
   "metadata": {},
   "outputs": [
    {
     "data": {
      "text/html": [
       "<div>\n",
       "<style scoped>\n",
       "    .dataframe tbody tr th:only-of-type {\n",
       "        vertical-align: middle;\n",
       "    }\n",
       "\n",
       "    .dataframe tbody tr th {\n",
       "        vertical-align: top;\n",
       "    }\n",
       "\n",
       "    .dataframe thead th {\n",
       "        text-align: right;\n",
       "    }\n",
       "</style>\n",
       "<table border=\"1\" class=\"dataframe\">\n",
       "  <thead>\n",
       "    <tr style=\"text-align: right;\">\n",
       "      <th></th>\n",
       "      <th>id</th>\n",
       "      <th>model</th>\n",
       "      <th>code</th>\n",
       "      <th>chain</th>\n",
       "      <th>order</th>\n",
       "      <th>name</th>\n",
       "      <th>curvature</th>\n",
       "      <th>torsion</th>\n",
       "      <th>arc_length</th>\n",
       "      <th>writhing</th>\n",
       "      <th>phi</th>\n",
       "      <th>psi</th>\n",
       "    </tr>\n",
       "  </thead>\n",
       "  <tbody>\n",
       "    <tr>\n",
       "      <th>0</th>\n",
       "      <td>0</td>\n",
       "      <td>0</td>\n",
       "      <td>2K5X</td>\n",
       "      <td>A</td>\n",
       "      <td>1</td>\n",
       "      <td>MET</td>\n",
       "      <td>1.171567</td>\n",
       "      <td>0.052793</td>\n",
       "      <td>8.114143</td>\n",
       "      <td>0.010657</td>\n",
       "      <td>0.000000</td>\n",
       "      <td>-162.771091</td>\n",
       "    </tr>\n",
       "    <tr>\n",
       "      <th>1</th>\n",
       "      <td>1</td>\n",
       "      <td>0</td>\n",
       "      <td>2K5X</td>\n",
       "      <td>A</td>\n",
       "      <td>2</td>\n",
       "      <td>GLU</td>\n",
       "      <td>1.171567</td>\n",
       "      <td>0.052793</td>\n",
       "      <td>7.744241</td>\n",
       "      <td>0.010657</td>\n",
       "      <td>-82.501456</td>\n",
       "      <td>55.322023</td>\n",
       "    </tr>\n",
       "    <tr>\n",
       "      <th>2</th>\n",
       "      <td>2</td>\n",
       "      <td>0</td>\n",
       "      <td>2K5X</td>\n",
       "      <td>A</td>\n",
       "      <td>3</td>\n",
       "      <td>LEU</td>\n",
       "      <td>0.516691</td>\n",
       "      <td>-0.049646</td>\n",
       "      <td>7.651813</td>\n",
       "      <td>0.010657</td>\n",
       "      <td>-104.765995</td>\n",
       "      <td>151.772894</td>\n",
       "    </tr>\n",
       "    <tr>\n",
       "      <th>3</th>\n",
       "      <td>3</td>\n",
       "      <td>0</td>\n",
       "      <td>2K5X</td>\n",
       "      <td>A</td>\n",
       "      <td>4</td>\n",
       "      <td>LYS</td>\n",
       "      <td>0.691968</td>\n",
       "      <td>-0.162003</td>\n",
       "      <td>7.697065</td>\n",
       "      <td>-0.044531</td>\n",
       "      <td>-91.287246</td>\n",
       "      <td>152.272637</td>\n",
       "    </tr>\n",
       "    <tr>\n",
       "      <th>4</th>\n",
       "      <td>4</td>\n",
       "      <td>0</td>\n",
       "      <td>2K5X</td>\n",
       "      <td>A</td>\n",
       "      <td>5</td>\n",
       "      <td>HIS</td>\n",
       "      <td>0.726271</td>\n",
       "      <td>-0.093555</td>\n",
       "      <td>8.377249</td>\n",
       "      <td>-0.064321</td>\n",
       "      <td>-78.677457</td>\n",
       "      <td>-25.081189</td>\n",
       "    </tr>\n",
       "    <tr>\n",
       "      <th>...</th>\n",
       "      <td>...</td>\n",
       "      <td>...</td>\n",
       "      <td>...</td>\n",
       "      <td>...</td>\n",
       "      <td>...</td>\n",
       "      <td>...</td>\n",
       "      <td>...</td>\n",
       "      <td>...</td>\n",
       "      <td>...</td>\n",
       "      <td>...</td>\n",
       "      <td>...</td>\n",
       "      <td>...</td>\n",
       "    </tr>\n",
       "    <tr>\n",
       "      <th>215</th>\n",
       "      <td>129</td>\n",
       "      <td>0</td>\n",
       "      <td>2K5X</td>\n",
       "      <td>B</td>\n",
       "      <td>130</td>\n",
       "      <td>ILE</td>\n",
       "      <td>0.374667</td>\n",
       "      <td>0.169407</td>\n",
       "      <td>8.658262</td>\n",
       "      <td>0.222338</td>\n",
       "      <td>-77.797020</td>\n",
       "      <td>-31.977884</td>\n",
       "    </tr>\n",
       "    <tr>\n",
       "      <th>216</th>\n",
       "      <td>130</td>\n",
       "      <td>0</td>\n",
       "      <td>2K5X</td>\n",
       "      <td>B</td>\n",
       "      <td>131</td>\n",
       "      <td>HIS</td>\n",
       "      <td>0.532056</td>\n",
       "      <td>-0.019662</td>\n",
       "      <td>8.427249</td>\n",
       "      <td>-0.003986</td>\n",
       "      <td>-92.569181</td>\n",
       "      <td>21.157166</td>\n",
       "    </tr>\n",
       "    <tr>\n",
       "      <th>217</th>\n",
       "      <td>131</td>\n",
       "      <td>0</td>\n",
       "      <td>2K5X</td>\n",
       "      <td>B</td>\n",
       "      <td>132</td>\n",
       "      <td>ARG</td>\n",
       "      <td>0.169288</td>\n",
       "      <td>-0.612796</td>\n",
       "      <td>8.394909</td>\n",
       "      <td>-0.103905</td>\n",
       "      <td>55.729215</td>\n",
       "      <td>55.176435</td>\n",
       "    </tr>\n",
       "    <tr>\n",
       "      <th>218</th>\n",
       "      <td>132</td>\n",
       "      <td>0</td>\n",
       "      <td>2K5X</td>\n",
       "      <td>B</td>\n",
       "      <td>133</td>\n",
       "      <td>GLY</td>\n",
       "      <td>0.279679</td>\n",
       "      <td>-0.081681</td>\n",
       "      <td>8.460548</td>\n",
       "      <td>-0.103905</td>\n",
       "      <td>104.961551</td>\n",
       "      <td>0.000000</td>\n",
       "    </tr>\n",
       "    <tr>\n",
       "      <th>219</th>\n",
       "      <td>133</td>\n",
       "      <td>0</td>\n",
       "      <td>2K5X</td>\n",
       "      <td>B</td>\n",
       "      <td>134</td>\n",
       "      <td>LYS</td>\n",
       "      <td>0.279679</td>\n",
       "      <td>-0.081681</td>\n",
       "      <td>8.300938</td>\n",
       "      <td>-0.103905</td>\n",
       "      <td>-79.166487</td>\n",
       "      <td>0.000000</td>\n",
       "    </tr>\n",
       "  </tbody>\n",
       "</table>\n",
       "<p>220 rows × 12 columns</p>\n",
       "</div>"
      ],
      "text/plain": [
       "      id  model  code chain  order name  curvature   torsion  arc_length  \\\n",
       "0      0      0  2K5X     A      1  MET   1.171567  0.052793    8.114143   \n",
       "1      1      0  2K5X     A      2  GLU   1.171567  0.052793    7.744241   \n",
       "2      2      0  2K5X     A      3  LEU   0.516691 -0.049646    7.651813   \n",
       "3      3      0  2K5X     A      4  LYS   0.691968 -0.162003    7.697065   \n",
       "4      4      0  2K5X     A      5  HIS   0.726271 -0.093555    8.377249   \n",
       "..   ...    ...   ...   ...    ...  ...        ...       ...         ...   \n",
       "215  129      0  2K5X     B    130  ILE   0.374667  0.169407    8.658262   \n",
       "216  130      0  2K5X     B    131  HIS   0.532056 -0.019662    8.427249   \n",
       "217  131      0  2K5X     B    132  ARG   0.169288 -0.612796    8.394909   \n",
       "218  132      0  2K5X     B    133  GLY   0.279679 -0.081681    8.460548   \n",
       "219  133      0  2K5X     B    134  LYS   0.279679 -0.081681    8.300938   \n",
       "\n",
       "     writhing         phi         psi  \n",
       "0    0.010657    0.000000 -162.771091  \n",
       "1    0.010657  -82.501456   55.322023  \n",
       "2    0.010657 -104.765995  151.772894  \n",
       "3   -0.044531  -91.287246  152.272637  \n",
       "4   -0.064321  -78.677457  -25.081189  \n",
       "..        ...         ...         ...  \n",
       "215  0.222338  -77.797020  -31.977884  \n",
       "216 -0.003986  -92.569181   21.157166  \n",
       "217 -0.103905   55.729215   55.176435  \n",
       "218 -0.103905  104.961551    0.000000  \n",
       "219 -0.103905  -79.166487    0.000000  \n",
       "\n",
       "[220 rows x 12 columns]"
      ]
     },
     "execution_count": 6,
     "metadata": {},
     "output_type": "execute_result"
    }
   ],
   "source": [
    "dfi"
   ]
  },
  {
   "cell_type": "markdown",
   "id": "e5425286-bb57-4871-8890-5725fbec44f5",
   "metadata": {},
   "source": [
    "#### Select a model "
   ]
  },
  {
   "cell_type": "code",
   "execution_count": 7,
   "id": "7b34111b-0c33-4f1c-8696-4bc84f2fc85e",
   "metadata": {},
   "outputs": [],
   "source": [
    "model = dfi['model'] == 0\n",
    "dfo = dfi[model].copy()"
   ]
  },
  {
   "cell_type": "code",
   "execution_count": 8,
   "id": "0de660fd-a9ac-4fd1-9a0a-f633fb6607af",
   "metadata": {},
   "outputs": [
    {
     "data": {
      "text/html": [
       "<div>\n",
       "<style scoped>\n",
       "    .dataframe tbody tr th:only-of-type {\n",
       "        vertical-align: middle;\n",
       "    }\n",
       "\n",
       "    .dataframe tbody tr th {\n",
       "        vertical-align: top;\n",
       "    }\n",
       "\n",
       "    .dataframe thead th {\n",
       "        text-align: right;\n",
       "    }\n",
       "</style>\n",
       "<table border=\"1\" class=\"dataframe\">\n",
       "  <thead>\n",
       "    <tr style=\"text-align: right;\">\n",
       "      <th></th>\n",
       "      <th>id</th>\n",
       "      <th>model</th>\n",
       "      <th>code</th>\n",
       "      <th>chain</th>\n",
       "      <th>order</th>\n",
       "      <th>name</th>\n",
       "      <th>curvature</th>\n",
       "      <th>torsion</th>\n",
       "      <th>arc_length</th>\n",
       "      <th>writhing</th>\n",
       "      <th>phi</th>\n",
       "      <th>psi</th>\n",
       "    </tr>\n",
       "  </thead>\n",
       "  <tbody>\n",
       "    <tr>\n",
       "      <th>0</th>\n",
       "      <td>0</td>\n",
       "      <td>0</td>\n",
       "      <td>2K5X</td>\n",
       "      <td>A</td>\n",
       "      <td>1</td>\n",
       "      <td>MET</td>\n",
       "      <td>1.171567</td>\n",
       "      <td>0.052793</td>\n",
       "      <td>8.114143</td>\n",
       "      <td>0.010657</td>\n",
       "      <td>0.000000</td>\n",
       "      <td>-162.771091</td>\n",
       "    </tr>\n",
       "    <tr>\n",
       "      <th>1</th>\n",
       "      <td>1</td>\n",
       "      <td>0</td>\n",
       "      <td>2K5X</td>\n",
       "      <td>A</td>\n",
       "      <td>2</td>\n",
       "      <td>GLU</td>\n",
       "      <td>1.171567</td>\n",
       "      <td>0.052793</td>\n",
       "      <td>7.744241</td>\n",
       "      <td>0.010657</td>\n",
       "      <td>-82.501456</td>\n",
       "      <td>55.322023</td>\n",
       "    </tr>\n",
       "    <tr>\n",
       "      <th>2</th>\n",
       "      <td>2</td>\n",
       "      <td>0</td>\n",
       "      <td>2K5X</td>\n",
       "      <td>A</td>\n",
       "      <td>3</td>\n",
       "      <td>LEU</td>\n",
       "      <td>0.516691</td>\n",
       "      <td>-0.049646</td>\n",
       "      <td>7.651813</td>\n",
       "      <td>0.010657</td>\n",
       "      <td>-104.765995</td>\n",
       "      <td>151.772894</td>\n",
       "    </tr>\n",
       "    <tr>\n",
       "      <th>3</th>\n",
       "      <td>3</td>\n",
       "      <td>0</td>\n",
       "      <td>2K5X</td>\n",
       "      <td>A</td>\n",
       "      <td>4</td>\n",
       "      <td>LYS</td>\n",
       "      <td>0.691968</td>\n",
       "      <td>-0.162003</td>\n",
       "      <td>7.697065</td>\n",
       "      <td>-0.044531</td>\n",
       "      <td>-91.287246</td>\n",
       "      <td>152.272637</td>\n",
       "    </tr>\n",
       "    <tr>\n",
       "      <th>4</th>\n",
       "      <td>4</td>\n",
       "      <td>0</td>\n",
       "      <td>2K5X</td>\n",
       "      <td>A</td>\n",
       "      <td>5</td>\n",
       "      <td>HIS</td>\n",
       "      <td>0.726271</td>\n",
       "      <td>-0.093555</td>\n",
       "      <td>8.377249</td>\n",
       "      <td>-0.064321</td>\n",
       "      <td>-78.677457</td>\n",
       "      <td>-25.081189</td>\n",
       "    </tr>\n",
       "  </tbody>\n",
       "</table>\n",
       "</div>"
      ],
      "text/plain": [
       "   id  model  code chain  order name  curvature   torsion  arc_length  \\\n",
       "0   0      0  2K5X     A      1  MET   1.171567  0.052793    8.114143   \n",
       "1   1      0  2K5X     A      2  GLU   1.171567  0.052793    7.744241   \n",
       "2   2      0  2K5X     A      3  LEU   0.516691 -0.049646    7.651813   \n",
       "3   3      0  2K5X     A      4  LYS   0.691968 -0.162003    7.697065   \n",
       "4   4      0  2K5X     A      5  HIS   0.726271 -0.093555    8.377249   \n",
       "\n",
       "   writhing         phi         psi  \n",
       "0  0.010657    0.000000 -162.771091  \n",
       "1  0.010657  -82.501456   55.322023  \n",
       "2  0.010657 -104.765995  151.772894  \n",
       "3 -0.044531  -91.287246  152.272637  \n",
       "4 -0.064321  -78.677457  -25.081189  "
      ]
     },
     "execution_count": 8,
     "metadata": {},
     "output_type": "execute_result"
    }
   ],
   "source": [
    "dfo.head()"
   ]
  },
  {
   "cell_type": "markdown",
   "id": "1c7d5408-da47-4928-a79b-142b04c56e98",
   "metadata": {},
   "source": [
    "#### A Ramachandran-like plot"
   ]
  },
  {
   "cell_type": "code",
   "execution_count": 9,
   "id": "345dea97-035f-4aac-8228-14ae78fe7e7f",
   "metadata": {},
   "outputs": [
    {
     "data": {
      "image/png": "[encoded data removed]",
      "text/plain": [
       "<Figure size 720x720 with 3 Axes>"
      ]
     },
     "metadata": {
      "needs_background": "light"
     },
     "output_type": "display_data"
    }
   ],
   "source": [
    "cmap = sns.color_palette(\"Blues\", as_cmap=True)\n",
    "sns.jointplot(x='curvature', y='torsion', data=dfo, kind='kde', cmap=cmap, height=10, fill=True)\n",
    "plt.show();"
   ]
  },
  {
   "cell_type": "markdown",
   "id": "8a360b83",
   "metadata": {},
   "source": [
    "#### Apply Scikit Standard Scaler to geometric attributes"
   ]
  },
  {
   "cell_type": "code",
   "execution_count": 10,
   "id": "eb434010",
   "metadata": {},
   "outputs": [],
   "source": [
    "#df = dfo[(dfo['name'] == 'GLY')].copy()\n",
    "df = dfo.copy()\n",
    "features = ['curvature', 'torsion', 'arc_length', 'writhing']\n",
    "autoscaler = StandardScaler()\n",
    "df[features] = autoscaler.fit_transform(df[features])"
   ]
  },
  {
   "cell_type": "code",
   "execution_count": 11,
   "id": "c82de809",
   "metadata": {},
   "outputs": [
    {
     "data": {
      "image/png": "[encoded data removed]",
      "text/plain": [
       "<Figure size 720x720 with 3 Axes>"
      ]
     },
     "metadata": {
      "needs_background": "light"
     },
     "output_type": "display_data"
    }
   ],
   "source": [
    "cmap = sns.color_palette(\"Blues\", as_cmap=True)\n",
    "#sns.jointplot(x='curvature', y='torsion', data=df, kind='kde', cmap=cmap, height=10, fill=True)\n",
    "sns.jointplot(x='curvature', y='torsion', data=df, kind='hex', cmap=cmap, height=10)\n",
    "plt.show();"
   ]
  },
  {
   "cell_type": "markdown",
   "id": "555aeac5",
   "metadata": {},
   "source": [
    "## Creating geometric data from a BioPython parsed structure"
   ]
  },
  {
   "cell_type": "code",
   "execution_count": 24,
   "id": "0e9cea94",
   "metadata": {},
   "outputs": [],
   "source": [
    "parser = PDBParser()\n",
    "name, ext = os.path.splitext(file_name)\n",
    "structure = parser.get_structure(name, file_name)"
   ]
  },
  {
   "cell_type": "markdown",
   "id": "8c6b58a9",
   "metadata": {},
   "source": [
    "### Create a Panda Dataframe from the parser"
   ]
  },
  {
   "cell_type": "code",
   "execution_count": 13,
   "id": "d20cd68c",
   "metadata": {},
   "outputs": [
    {
     "data": {
      "text/html": [
       "<div>\n",
       "<style scoped>\n",
       "    .dataframe tbody tr th:only-of-type {\n",
       "        vertical-align: middle;\n",
       "    }\n",
       "\n",
       "    .dataframe tbody tr th {\n",
       "        vertical-align: top;\n",
       "    }\n",
       "\n",
       "    .dataframe thead th {\n",
       "        text-align: right;\n",
       "    }\n",
       "</style>\n",
       "<table border=\"1\" class=\"dataframe\">\n",
       "  <thead>\n",
       "    <tr style=\"text-align: right;\">\n",
       "      <th></th>\n",
       "      <th>id</th>\n",
       "      <th>model</th>\n",
       "      <th>code</th>\n",
       "      <th>chain</th>\n",
       "      <th>order</th>\n",
       "      <th>name</th>\n",
       "      <th>curvature</th>\n",
       "      <th>torsion</th>\n",
       "      <th>arc_length</th>\n",
       "      <th>writhing</th>\n",
       "      <th>phi</th>\n",
       "      <th>psi</th>\n",
       "    </tr>\n",
       "  </thead>\n",
       "  <tbody>\n",
       "    <tr>\n",
       "      <th>0</th>\n",
       "      <td>0</td>\n",
       "      <td>0</td>\n",
       "      <td>2K5X</td>\n",
       "      <td>A</td>\n",
       "      <td>1</td>\n",
       "      <td>MET</td>\n",
       "      <td>1.171567</td>\n",
       "      <td>0.052793</td>\n",
       "      <td>8.114143</td>\n",
       "      <td>0.010657</td>\n",
       "      <td>0.000000</td>\n",
       "      <td>-162.771091</td>\n",
       "    </tr>\n",
       "    <tr>\n",
       "      <th>1</th>\n",
       "      <td>1</td>\n",
       "      <td>0</td>\n",
       "      <td>2K5X</td>\n",
       "      <td>A</td>\n",
       "      <td>2</td>\n",
       "      <td>GLU</td>\n",
       "      <td>1.171567</td>\n",
       "      <td>0.052793</td>\n",
       "      <td>7.744241</td>\n",
       "      <td>0.010657</td>\n",
       "      <td>-82.501456</td>\n",
       "      <td>55.322023</td>\n",
       "    </tr>\n",
       "    <tr>\n",
       "      <th>2</th>\n",
       "      <td>2</td>\n",
       "      <td>0</td>\n",
       "      <td>2K5X</td>\n",
       "      <td>A</td>\n",
       "      <td>3</td>\n",
       "      <td>LEU</td>\n",
       "      <td>0.516691</td>\n",
       "      <td>-0.049646</td>\n",
       "      <td>7.651813</td>\n",
       "      <td>0.010657</td>\n",
       "      <td>-104.765995</td>\n",
       "      <td>151.772894</td>\n",
       "    </tr>\n",
       "    <tr>\n",
       "      <th>3</th>\n",
       "      <td>3</td>\n",
       "      <td>0</td>\n",
       "      <td>2K5X</td>\n",
       "      <td>A</td>\n",
       "      <td>4</td>\n",
       "      <td>LYS</td>\n",
       "      <td>0.691968</td>\n",
       "      <td>-0.162003</td>\n",
       "      <td>7.697065</td>\n",
       "      <td>-0.044531</td>\n",
       "      <td>-91.287246</td>\n",
       "      <td>152.272637</td>\n",
       "    </tr>\n",
       "    <tr>\n",
       "      <th>4</th>\n",
       "      <td>4</td>\n",
       "      <td>0</td>\n",
       "      <td>2K5X</td>\n",
       "      <td>A</td>\n",
       "      <td>5</td>\n",
       "      <td>HIS</td>\n",
       "      <td>0.726271</td>\n",
       "      <td>-0.093555</td>\n",
       "      <td>8.377249</td>\n",
       "      <td>-0.064321</td>\n",
       "      <td>-78.677457</td>\n",
       "      <td>-25.081189</td>\n",
       "    </tr>\n",
       "    <tr>\n",
       "      <th>...</th>\n",
       "      <td>...</td>\n",
       "      <td>...</td>\n",
       "      <td>...</td>\n",
       "      <td>...</td>\n",
       "      <td>...</td>\n",
       "      <td>...</td>\n",
       "      <td>...</td>\n",
       "      <td>...</td>\n",
       "      <td>...</td>\n",
       "      <td>...</td>\n",
       "      <td>...</td>\n",
       "      <td>...</td>\n",
       "    </tr>\n",
       "    <tr>\n",
       "      <th>215</th>\n",
       "      <td>129</td>\n",
       "      <td>0</td>\n",
       "      <td>2K5X</td>\n",
       "      <td>B</td>\n",
       "      <td>130</td>\n",
       "      <td>ILE</td>\n",
       "      <td>0.374667</td>\n",
       "      <td>0.169407</td>\n",
       "      <td>8.658262</td>\n",
       "      <td>0.222338</td>\n",
       "      <td>-77.797020</td>\n",
       "      <td>-31.977884</td>\n",
       "    </tr>\n",
       "    <tr>\n",
       "      <th>216</th>\n",
       "      <td>130</td>\n",
       "      <td>0</td>\n",
       "      <td>2K5X</td>\n",
       "      <td>B</td>\n",
       "      <td>131</td>\n",
       "      <td>HIS</td>\n",
       "      <td>0.532056</td>\n",
       "      <td>-0.019662</td>\n",
       "      <td>8.427249</td>\n",
       "      <td>-0.003986</td>\n",
       "      <td>-92.569181</td>\n",
       "      <td>21.157166</td>\n",
       "    </tr>\n",
       "    <tr>\n",
       "      <th>217</th>\n",
       "      <td>131</td>\n",
       "      <td>0</td>\n",
       "      <td>2K5X</td>\n",
       "      <td>B</td>\n",
       "      <td>132</td>\n",
       "      <td>ARG</td>\n",
       "      <td>0.169288</td>\n",
       "      <td>-0.612796</td>\n",
       "      <td>8.394909</td>\n",
       "      <td>-0.103905</td>\n",
       "      <td>55.729215</td>\n",
       "      <td>55.176435</td>\n",
       "    </tr>\n",
       "    <tr>\n",
       "      <th>218</th>\n",
       "      <td>132</td>\n",
       "      <td>0</td>\n",
       "      <td>2K5X</td>\n",
       "      <td>B</td>\n",
       "      <td>133</td>\n",
       "      <td>GLY</td>\n",
       "      <td>0.279679</td>\n",
       "      <td>-0.081681</td>\n",
       "      <td>8.460548</td>\n",
       "      <td>-0.103905</td>\n",
       "      <td>104.961551</td>\n",
       "      <td>0.000000</td>\n",
       "    </tr>\n",
       "    <tr>\n",
       "      <th>219</th>\n",
       "      <td>133</td>\n",
       "      <td>0</td>\n",
       "      <td>2K5X</td>\n",
       "      <td>B</td>\n",
       "      <td>134</td>\n",
       "      <td>LYS</td>\n",
       "      <td>0.279679</td>\n",
       "      <td>-0.081681</td>\n",
       "      <td>8.300938</td>\n",
       "      <td>-0.103905</td>\n",
       "      <td>-79.166487</td>\n",
       "      <td>0.000000</td>\n",
       "    </tr>\n",
       "  </tbody>\n",
       "</table>\n",
       "<p>220 rows × 12 columns</p>\n",
       "</div>"
      ],
      "text/plain": [
       "      id  model  code chain  order name  curvature   torsion  arc_length  \\\n",
       "0      0      0  2K5X     A      1  MET   1.171567  0.052793    8.114143   \n",
       "1      1      0  2K5X     A      2  GLU   1.171567  0.052793    7.744241   \n",
       "2      2      0  2K5X     A      3  LEU   0.516691 -0.049646    7.651813   \n",
       "3      3      0  2K5X     A      4  LYS   0.691968 -0.162003    7.697065   \n",
       "4      4      0  2K5X     A      5  HIS   0.726271 -0.093555    8.377249   \n",
       "..   ...    ...   ...   ...    ...  ...        ...       ...         ...   \n",
       "215  129      0  2K5X     B    130  ILE   0.374667  0.169407    8.658262   \n",
       "216  130      0  2K5X     B    131  HIS   0.532056 -0.019662    8.427249   \n",
       "217  131      0  2K5X     B    132  ARG   0.169288 -0.612796    8.394909   \n",
       "218  132      0  2K5X     B    133  GLY   0.279679 -0.081681    8.460548   \n",
       "219  133      0  2K5X     B    134  LYS   0.279679 -0.081681    8.300938   \n",
       "\n",
       "     writhing         phi         psi  \n",
       "0    0.010657    0.000000 -162.771091  \n",
       "1    0.010657  -82.501456   55.322023  \n",
       "2    0.010657 -104.765995  151.772894  \n",
       "3   -0.044531  -91.287246  152.272637  \n",
       "4   -0.064321  -78.677457  -25.081189  \n",
       "..        ...         ...         ...  \n",
       "215  0.222338  -77.797020  -31.977884  \n",
       "216 -0.003986  -92.569181   21.157166  \n",
       "217 -0.103905   55.729215   55.176435  \n",
       "218 -0.103905  104.961551    0.000000  \n",
       "219 -0.103905  -79.166487    0.000000  \n",
       "\n",
       "[220 rows x 12 columns]"
      ]
     },
     "execution_count": 13,
     "metadata": {},
     "output_type": "execute_result"
    }
   ],
   "source": [
    "df = mel.geometry_from_structure(structure)\n",
    "df"
   ]
  },
  {
   "cell_type": "markdown",
   "id": "9f625345",
   "metadata": {},
   "source": [
    "### Create a dictionary of attribute from the parser"
   ]
  },
  {
   "cell_type": "code",
   "execution_count": 25,
   "id": "9f184ff4",
   "metadata": {},
   "outputs": [],
   "source": [
    "geo = mel.geometry_dict_from_structure(structure)"
   ]
  },
  {
   "cell_type": "code",
   "execution_count": 26,
   "id": "37b7ab7d-f52f-4f1d-9ebc-208df05d83cf",
   "metadata": {},
   "outputs": [
    {
     "data": {
      "text/plain": [
       "ResidueGeometry(name='MET', chain='A', res_num=0, res_order=1, curvature=0.5202700130504211, torsion=0.02068317869191526, arc_len=8.36129856916011, writhing=-0.0020485658580649893, phi=0.0, psi=128.23160892144898, res_ann={})"
      ]
     },
     "execution_count": 26,
     "metadata": {},
     "output_type": "execute_result"
    }
   ],
   "source": [
    "# Access format 'model:chain'\n",
    "geo['0:A'].residues[0]"
   ]
  },
  {
   "cell_type": "markdown",
   "id": "3d7e5b71-8f91-4969-8c9f-08142f9fdfca",
   "metadata": {},
   "source": [
    "### The Geometric Data can be stored into a file (pickled) using the Dill library."
   ]
  },
  {
   "cell_type": "code",
   "execution_count": 34,
   "id": "62cafa7a-37b6-4d97-8299-a679323628d9",
   "metadata": {},
   "outputs": [],
   "source": [
    "with open('geo.pkl', 'wb') as file:\n",
    "    pickle.dump(geo, file)"
   ]
  },
  {
   "cell_type": "code",
   "execution_count": 35,
   "id": "ab757d85-b792-465d-a5ab-af55cc05d2b8",
   "metadata": {},
   "outputs": [],
   "source": [
    "with open('geo.pkl', 'rb') as file:\n",
    "    geo_loaded = pickle.load(file)"
   ]
  },
  {
   "cell_type": "code",
   "execution_count": 36,
   "id": "abd5d9ee-bc21-4a9b-af34-4afde02770b5",
   "metadata": {},
   "outputs": [
    {
     "data": {
      "text/plain": [
       "ResidueGeometry(name='MET', chain='A', res_num=0, res_order=1, curvature=0.5202700130504211, torsion=0.02068317869191526, arc_len=8.36129856916011, writhing=-0.0020485658580649893, phi=0.0, psi=128.23160892144898, res_ann={})"
      ]
     },
     "execution_count": 36,
     "metadata": {},
     "output_type": "execute_result"
    }
   ],
   "source": [
    "geo_loaded['0:A'].residues[0]"
   ]
  },
  {
   "cell_type": "markdown",
   "id": "42caaf15",
   "metadata": {},
   "source": [
    "### Set the b-factor as an attribute "
   ]
  },
  {
   "cell_type": "code",
   "execution_count": 27,
   "id": "8a2cfc22",
   "metadata": {},
   "outputs": [],
   "source": [
    "mel.bfactor_from_geo(structure=structure, attribute='curvature', geo=geo)"
   ]
  },
  {
   "cell_type": "markdown",
   "id": "4bb275ec",
   "metadata": {},
   "source": [
    "#### View structure as a putty model"
   ]
  },
  {
   "cell_type": "code",
   "execution_count": 28,
   "id": "8b0904e3",
   "metadata": {},
   "outputs": [
    {
     "data": {
      "application/vnd.jupyter.widget-view+json": {
       "model_id": "d9e30d3832914ba48c22556b490a0428",
       "version_major": 2,
       "version_minor": 0
      },
      "text/plain": [
       "Box(children=(NGLWidget(layout=Layout(height='auto', width='auto')),), layout=Layout(height='600px', width='80…"
      ]
     },
     "metadata": {},
     "output_type": "display_data"
    }
   ],
   "source": [
    "#mel.view_putty(structure)\n",
    "mel.view_putty(structure[0], radius_scale=1.4, width=800, height=600)"
   ]
  },
  {
   "cell_type": "code",
   "execution_count": 18,
   "id": "285f652c-b4e6-407d-b6eb-f90cd3f07e44",
   "metadata": {},
   "outputs": [
    {
     "data": {
      "application/vnd.jupyter.widget-view+json": {
       "model_id": "369b427f59624ca5987733e07f538ea6",
       "version_major": 2,
       "version_minor": 0
      },
      "text/plain": [
       "Box(children=(NGLWidget(layout=Layout(height='auto', width='auto')),), layout=Layout(height='600px', width='80…"
      ]
     },
     "metadata": {},
     "output_type": "display_data"
    }
   ],
   "source": [
    "mel.view_cartoon(structure[0], width=800, height=600)"
   ]
  },
  {
   "cell_type": "code",
   "execution_count": 29,
   "id": "ded022af-5030-416a-a437-5820475323db",
   "metadata": {},
   "outputs": [
    {
     "data": {
      "application/vnd.jupyter.widget-view+json": {
       "model_id": "2c16453c9aa14dada0975b1064934370",
       "version_major": 2,
       "version_minor": 0
      },
      "text/plain": [
       "Box(children=(NGLWidget(layout=Layout(height='auto', width='auto')),), layout=Layout(height='600px', width='80…"
      ]
     },
     "metadata": {},
     "output_type": "display_data"
    }
   ],
   "source": [
    "mel.view_tube(structure[0], width=800, height=600)"
   ]
  },
  {
   "cell_type": "markdown",
   "id": "cfb56116",
   "metadata": {},
   "source": [
    "### Save the structure to a PDB file with the new bfactors"
   ]
  },
  {
   "cell_type": "code",
   "execution_count": 20,
   "id": "cbbc5d98",
   "metadata": {},
   "outputs": [],
   "source": [
    "io = PDBIO()\n",
    "io.set_structure(structure)\n",
    "io.save('out.pdb')"
   ]
  },
  {
   "cell_type": "markdown",
   "id": "cfbdafbe-2b1b-4600-a4a7-2f47714dbe19",
   "metadata": {},
   "source": [
    "## Acess the Propensity Table for a target residue"
   ]
  },
  {
   "cell_type": "code",
   "execution_count": 21,
   "id": "a5627221-18df-4ca2-b675-aea1d2fa248f",
   "metadata": {},
   "outputs": [],
   "source": [
    "ptable = mel.PropensityTable()"
   ]
  },
  {
   "cell_type": "code",
   "execution_count": 22,
   "id": "da767c6a-01ea-438d-a263-5d8416135fe6",
   "metadata": {},
   "outputs": [
    {
     "data": {
      "text/plain": [
       "-5"
      ]
     },
     "execution_count": 22,
     "metadata": {},
     "output_type": "execute_result"
    }
   ],
   "source": [
    "phi = -82.0\n",
    "psi =  55.0\n",
    "ptable.get_score(target='F', residue='A', phi=phi, psi=psi)"
   ]
  },
  {
   "cell_type": "code",
   "execution_count": null,
   "id": "06badff1-6d93-4fee-a70f-bf74ad5c32d4",
   "metadata": {},
   "outputs": [],
   "source": []
  }
 ],
 "metadata": {
  "kernelspec": {
   "display_name": "Python 3 (ipykernel)",
   "language": "python",
   "name": "python3"
  },
  "language_info": {
   "codemirror_mode": {
    "name": "ipython",
    "version": 3
   },
   "file_extension": ".py",
   "mimetype": "text/x-python",
   "name": "python",
   "nbconvert_exporter": "python",
   "pygments_lexer": "ipython3",
   "version": "3.8.12"
  }
 },
 "nbformat": 4,
 "nbformat_minor": 5
}
