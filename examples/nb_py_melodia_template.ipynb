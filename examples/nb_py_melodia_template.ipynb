{
 "cells": [
  {
   "cell_type": "markdown",
   "id": "13a2364a",
   "metadata": {},
   "source": [
    "# Melodia 0.1 - Examples"
   ]
  },
  {
   "cell_type": "code",
   "execution_count": 3,
   "id": "c382356c",
   "metadata": {},
   "outputs": [],
   "source": [
    "import os \n",
    "\n",
    "import numpy as np\n",
    "import seaborn as sns\n",
    "import melodia as mel\n",
    "import matplotlib.pyplot as plt\n",
    "\n",
    "from Bio.PDB import PDBParser, PDBIO\n",
    "\n",
    "from sklearn.preprocessing import StandardScaler"
   ]
  },
  {
   "cell_type": "markdown",
   "id": "fa09893e",
   "metadata": {},
   "source": [
    "## Creating a Panda Dataframe from a structure file\n",
    "\n",
    "### Read a BioPython compatible file "
   ]
  },
  {
   "cell_type": "code",
   "execution_count": 4,
   "id": "8f356c0c",
   "metadata": {},
   "outputs": [
    {
     "data": {
      "text/html": [
       "<div>\n",
       "<style scoped>\n",
       "    .dataframe tbody tr th:only-of-type {\n",
       "        vertical-align: middle;\n",
       "    }\n",
       "\n",
       "    .dataframe tbody tr th {\n",
       "        vertical-align: top;\n",
       "    }\n",
       "\n",
       "    .dataframe thead th {\n",
       "        text-align: right;\n",
       "    }\n",
       "</style>\n",
       "<table border=\"1\" class=\"dataframe\">\n",
       "  <thead>\n",
       "    <tr style=\"text-align: right;\">\n",
       "      <th></th>\n",
       "      <th>id</th>\n",
       "      <th>code</th>\n",
       "      <th>chain</th>\n",
       "      <th>order</th>\n",
       "      <th>name</th>\n",
       "      <th>curvature</th>\n",
       "      <th>torsion</th>\n",
       "      <th>arc_length</th>\n",
       "      <th>writhing</th>\n",
       "      <th>phi</th>\n",
       "      <th>psi</th>\n",
       "    </tr>\n",
       "  </thead>\n",
       "  <tbody>\n",
       "    <tr>\n",
       "      <th>0</th>\n",
       "      <td>0</td>\n",
       "      <td>2K5X</td>\n",
       "      <td>A</td>\n",
       "      <td>1</td>\n",
       "      <td>MET</td>\n",
       "      <td>1.171567</td>\n",
       "      <td>0.052793</td>\n",
       "      <td>8.114143</td>\n",
       "      <td>0.010657</td>\n",
       "      <td>0.000000</td>\n",
       "      <td>-162.771091</td>\n",
       "    </tr>\n",
       "    <tr>\n",
       "      <th>1</th>\n",
       "      <td>1</td>\n",
       "      <td>2K5X</td>\n",
       "      <td>A</td>\n",
       "      <td>2</td>\n",
       "      <td>GLU</td>\n",
       "      <td>1.171567</td>\n",
       "      <td>0.052793</td>\n",
       "      <td>7.744241</td>\n",
       "      <td>0.010657</td>\n",
       "      <td>-82.501456</td>\n",
       "      <td>55.322023</td>\n",
       "    </tr>\n",
       "    <tr>\n",
       "      <th>2</th>\n",
       "      <td>2</td>\n",
       "      <td>2K5X</td>\n",
       "      <td>A</td>\n",
       "      <td>3</td>\n",
       "      <td>LEU</td>\n",
       "      <td>0.516691</td>\n",
       "      <td>-0.049646</td>\n",
       "      <td>7.651813</td>\n",
       "      <td>0.010657</td>\n",
       "      <td>-104.765995</td>\n",
       "      <td>151.772894</td>\n",
       "    </tr>\n",
       "    <tr>\n",
       "      <th>3</th>\n",
       "      <td>3</td>\n",
       "      <td>2K5X</td>\n",
       "      <td>A</td>\n",
       "      <td>4</td>\n",
       "      <td>LYS</td>\n",
       "      <td>0.691968</td>\n",
       "      <td>-0.162003</td>\n",
       "      <td>7.697065</td>\n",
       "      <td>-0.044531</td>\n",
       "      <td>-91.287246</td>\n",
       "      <td>152.272637</td>\n",
       "    </tr>\n",
       "    <tr>\n",
       "      <th>4</th>\n",
       "      <td>4</td>\n",
       "      <td>2K5X</td>\n",
       "      <td>A</td>\n",
       "      <td>5</td>\n",
       "      <td>HIS</td>\n",
       "      <td>0.726271</td>\n",
       "      <td>-0.093555</td>\n",
       "      <td>8.377249</td>\n",
       "      <td>-0.064321</td>\n",
       "      <td>-78.677457</td>\n",
       "      <td>-25.081189</td>\n",
       "    </tr>\n",
       "    <tr>\n",
       "      <th>...</th>\n",
       "      <td>...</td>\n",
       "      <td>...</td>\n",
       "      <td>...</td>\n",
       "      <td>...</td>\n",
       "      <td>...</td>\n",
       "      <td>...</td>\n",
       "      <td>...</td>\n",
       "      <td>...</td>\n",
       "      <td>...</td>\n",
       "      <td>...</td>\n",
       "      <td>...</td>\n",
       "    </tr>\n",
       "    <tr>\n",
       "      <th>215</th>\n",
       "      <td>129</td>\n",
       "      <td>2K5X</td>\n",
       "      <td>B</td>\n",
       "      <td>130</td>\n",
       "      <td>ILE</td>\n",
       "      <td>0.374667</td>\n",
       "      <td>0.169407</td>\n",
       "      <td>8.658262</td>\n",
       "      <td>0.222338</td>\n",
       "      <td>-77.797020</td>\n",
       "      <td>-31.977884</td>\n",
       "    </tr>\n",
       "    <tr>\n",
       "      <th>216</th>\n",
       "      <td>130</td>\n",
       "      <td>2K5X</td>\n",
       "      <td>B</td>\n",
       "      <td>131</td>\n",
       "      <td>HIS</td>\n",
       "      <td>0.532056</td>\n",
       "      <td>-0.019662</td>\n",
       "      <td>8.427249</td>\n",
       "      <td>-0.003986</td>\n",
       "      <td>-92.569181</td>\n",
       "      <td>21.157166</td>\n",
       "    </tr>\n",
       "    <tr>\n",
       "      <th>217</th>\n",
       "      <td>131</td>\n",
       "      <td>2K5X</td>\n",
       "      <td>B</td>\n",
       "      <td>132</td>\n",
       "      <td>ARG</td>\n",
       "      <td>0.169288</td>\n",
       "      <td>-0.612796</td>\n",
       "      <td>8.394909</td>\n",
       "      <td>-0.103905</td>\n",
       "      <td>55.729215</td>\n",
       "      <td>55.176435</td>\n",
       "    </tr>\n",
       "    <tr>\n",
       "      <th>218</th>\n",
       "      <td>132</td>\n",
       "      <td>2K5X</td>\n",
       "      <td>B</td>\n",
       "      <td>133</td>\n",
       "      <td>GLY</td>\n",
       "      <td>0.279679</td>\n",
       "      <td>-0.081681</td>\n",
       "      <td>8.460548</td>\n",
       "      <td>-0.103905</td>\n",
       "      <td>104.961551</td>\n",
       "      <td>0.000000</td>\n",
       "    </tr>\n",
       "    <tr>\n",
       "      <th>219</th>\n",
       "      <td>133</td>\n",
       "      <td>2K5X</td>\n",
       "      <td>B</td>\n",
       "      <td>134</td>\n",
       "      <td>LYS</td>\n",
       "      <td>0.279679</td>\n",
       "      <td>-0.081681</td>\n",
       "      <td>8.300938</td>\n",
       "      <td>-0.103905</td>\n",
       "      <td>-79.166487</td>\n",
       "      <td>0.000000</td>\n",
       "    </tr>\n",
       "  </tbody>\n",
       "</table>\n",
       "<p>220 rows × 11 columns</p>\n",
       "</div>"
      ],
      "text/plain": [
       "      id  code chain  order name  curvature   torsion  arc_length  writhing  \\\n",
       "0      0  2K5X     A      1  MET   1.171567  0.052793    8.114143  0.010657   \n",
       "1      1  2K5X     A      2  GLU   1.171567  0.052793    7.744241  0.010657   \n",
       "2      2  2K5X     A      3  LEU   0.516691 -0.049646    7.651813  0.010657   \n",
       "3      3  2K5X     A      4  LYS   0.691968 -0.162003    7.697065 -0.044531   \n",
       "4      4  2K5X     A      5  HIS   0.726271 -0.093555    8.377249 -0.064321   \n",
       "..   ...   ...   ...    ...  ...        ...       ...         ...       ...   \n",
       "215  129  2K5X     B    130  ILE   0.374667  0.169407    8.658262  0.222338   \n",
       "216  130  2K5X     B    131  HIS   0.532056 -0.019662    8.427249 -0.003986   \n",
       "217  131  2K5X     B    132  ARG   0.169288 -0.612796    8.394909 -0.103905   \n",
       "218  132  2K5X     B    133  GLY   0.279679 -0.081681    8.460548 -0.103905   \n",
       "219  133  2K5X     B    134  LYS   0.279679 -0.081681    8.300938 -0.103905   \n",
       "\n",
       "            phi         psi  \n",
       "0      0.000000 -162.771091  \n",
       "1    -82.501456   55.322023  \n",
       "2   -104.765995  151.772894  \n",
       "3    -91.287246  152.272637  \n",
       "4    -78.677457  -25.081189  \n",
       "..          ...         ...  \n",
       "215  -77.797020  -31.977884  \n",
       "216  -92.569181   21.157166  \n",
       "217   55.729215   55.176435  \n",
       "218  104.961551    0.000000  \n",
       "219  -79.166487    0.000000  \n",
       "\n",
       "[220 rows x 11 columns]"
      ]
     },
     "execution_count": 4,
     "metadata": {},
     "output_type": "execute_result"
    }
   ],
   "source": [
    "file_name = '2k5x.pdb'\n",
    "dfo = mel.geometry_from_structure_file(file_name)\n",
    "dfo"
   ]
  },
  {
   "cell_type": "code",
   "execution_count": 5,
   "id": "345dea97-035f-4aac-8228-14ae78fe7e7f",
   "metadata": {},
   "outputs": [
    {
     "data": {
      "image/png": "[encoded data removed]",
      "text/plain": [
       "<Figure size 720x720 with 3 Axes>"
      ]
     },
     "metadata": {
      "needs_background": "light"
     },
     "output_type": "display_data"
    }
   ],
   "source": [
    "cmap = sns.color_palette(\"Blues\", as_cmap=True)\n",
    "sns.jointplot(x='curvature', y='torsion', data=dfo, kind='kde', cmap=cmap, height=10, fill=True)\n",
    "plt.show();"
   ]
  },
  {
   "cell_type": "markdown",
   "id": "8a360b83",
   "metadata": {},
   "source": [
    "### Apply Scikit Standard Scaler to geometric attributes"
   ]
  },
  {
   "cell_type": "code",
   "execution_count": 6,
   "id": "eb434010",
   "metadata": {},
   "outputs": [],
   "source": [
    "df = dfo[(dfo['name'] == 'GLY')].copy()\n",
    "#features = ['curvature', 'torsion', 'arc_length', 'writhing']\n",
    "#autoscaler = StandardScaler()\n",
    "#df[features] = autoscaler.fit_transform(df[features])"
   ]
  },
  {
   "cell_type": "code",
   "execution_count": 7,
   "id": "c82de809",
   "metadata": {},
   "outputs": [
    {
     "data": {
      "image/png": "[encoded data removed]",
      "text/plain": [
       "<Figure size 720x720 with 3 Axes>"
      ]
     },
     "metadata": {
      "needs_background": "light"
     },
     "output_type": "display_data"
    }
   ],
   "source": [
    "cmap = sns.color_palette(\"Blues\", as_cmap=True)\n",
    "sns.jointplot(x='curvature', y='torsion', data=df, kind='kde', cmap=cmap, height=10, fill=True)\n",
    "#sns.jointplot(x='curvature', y='torsion', data=df, kind='hex', color='b', height=10)\n",
    "plt.show();"
   ]
  },
  {
   "cell_type": "markdown",
   "id": "555aeac5",
   "metadata": {},
   "source": [
    "## Creating geometric data from a BioPython parsed structure"
   ]
  },
  {
   "cell_type": "code",
   "execution_count": 8,
   "id": "0e9cea94",
   "metadata": {},
   "outputs": [],
   "source": [
    "parser = PDBParser()\n",
    "name, ext = os.path.splitext(file_name)\n",
    "structure = parser.get_structure(name, file_name)"
   ]
  },
  {
   "cell_type": "markdown",
   "id": "8c6b58a9",
   "metadata": {},
   "source": [
    "### Create a Panda Dataframe from the parser"
   ]
  },
  {
   "cell_type": "code",
   "execution_count": 9,
   "id": "d20cd68c",
   "metadata": {},
   "outputs": [
    {
     "data": {
      "text/html": [
       "<div>\n",
       "<style scoped>\n",
       "    .dataframe tbody tr th:only-of-type {\n",
       "        vertical-align: middle;\n",
       "    }\n",
       "\n",
       "    .dataframe tbody tr th {\n",
       "        vertical-align: top;\n",
       "    }\n",
       "\n",
       "    .dataframe thead th {\n",
       "        text-align: right;\n",
       "    }\n",
       "</style>\n",
       "<table border=\"1\" class=\"dataframe\">\n",
       "  <thead>\n",
       "    <tr style=\"text-align: right;\">\n",
       "      <th></th>\n",
       "      <th>id</th>\n",
       "      <th>code</th>\n",
       "      <th>chain</th>\n",
       "      <th>order</th>\n",
       "      <th>name</th>\n",
       "      <th>curvature</th>\n",
       "      <th>torsion</th>\n",
       "      <th>arc_length</th>\n",
       "      <th>writhing</th>\n",
       "      <th>phi</th>\n",
       "      <th>psi</th>\n",
       "    </tr>\n",
       "  </thead>\n",
       "  <tbody>\n",
       "    <tr>\n",
       "      <th>0</th>\n",
       "      <td>0</td>\n",
       "      <td>2K5X</td>\n",
       "      <td>A</td>\n",
       "      <td>1</td>\n",
       "      <td>MET</td>\n",
       "      <td>1.171567</td>\n",
       "      <td>0.052793</td>\n",
       "      <td>8.114143</td>\n",
       "      <td>0.010657</td>\n",
       "      <td>0.000000</td>\n",
       "      <td>-162.771091</td>\n",
       "    </tr>\n",
       "    <tr>\n",
       "      <th>1</th>\n",
       "      <td>1</td>\n",
       "      <td>2K5X</td>\n",
       "      <td>A</td>\n",
       "      <td>2</td>\n",
       "      <td>GLU</td>\n",
       "      <td>1.171567</td>\n",
       "      <td>0.052793</td>\n",
       "      <td>7.744241</td>\n",
       "      <td>0.010657</td>\n",
       "      <td>-82.501456</td>\n",
       "      <td>55.322023</td>\n",
       "    </tr>\n",
       "    <tr>\n",
       "      <th>2</th>\n",
       "      <td>2</td>\n",
       "      <td>2K5X</td>\n",
       "      <td>A</td>\n",
       "      <td>3</td>\n",
       "      <td>LEU</td>\n",
       "      <td>0.516691</td>\n",
       "      <td>-0.049646</td>\n",
       "      <td>7.651813</td>\n",
       "      <td>0.010657</td>\n",
       "      <td>-104.765995</td>\n",
       "      <td>151.772894</td>\n",
       "    </tr>\n",
       "    <tr>\n",
       "      <th>3</th>\n",
       "      <td>3</td>\n",
       "      <td>2K5X</td>\n",
       "      <td>A</td>\n",
       "      <td>4</td>\n",
       "      <td>LYS</td>\n",
       "      <td>0.691968</td>\n",
       "      <td>-0.162003</td>\n",
       "      <td>7.697065</td>\n",
       "      <td>-0.044531</td>\n",
       "      <td>-91.287246</td>\n",
       "      <td>152.272637</td>\n",
       "    </tr>\n",
       "    <tr>\n",
       "      <th>4</th>\n",
       "      <td>4</td>\n",
       "      <td>2K5X</td>\n",
       "      <td>A</td>\n",
       "      <td>5</td>\n",
       "      <td>HIS</td>\n",
       "      <td>0.726271</td>\n",
       "      <td>-0.093555</td>\n",
       "      <td>8.377249</td>\n",
       "      <td>-0.064321</td>\n",
       "      <td>-78.677457</td>\n",
       "      <td>-25.081189</td>\n",
       "    </tr>\n",
       "    <tr>\n",
       "      <th>...</th>\n",
       "      <td>...</td>\n",
       "      <td>...</td>\n",
       "      <td>...</td>\n",
       "      <td>...</td>\n",
       "      <td>...</td>\n",
       "      <td>...</td>\n",
       "      <td>...</td>\n",
       "      <td>...</td>\n",
       "      <td>...</td>\n",
       "      <td>...</td>\n",
       "      <td>...</td>\n",
       "    </tr>\n",
       "    <tr>\n",
       "      <th>215</th>\n",
       "      <td>129</td>\n",
       "      <td>2K5X</td>\n",
       "      <td>B</td>\n",
       "      <td>130</td>\n",
       "      <td>ILE</td>\n",
       "      <td>0.374667</td>\n",
       "      <td>0.169407</td>\n",
       "      <td>8.658262</td>\n",
       "      <td>0.222338</td>\n",
       "      <td>-77.797020</td>\n",
       "      <td>-31.977884</td>\n",
       "    </tr>\n",
       "    <tr>\n",
       "      <th>216</th>\n",
       "      <td>130</td>\n",
       "      <td>2K5X</td>\n",
       "      <td>B</td>\n",
       "      <td>131</td>\n",
       "      <td>HIS</td>\n",
       "      <td>0.532056</td>\n",
       "      <td>-0.019662</td>\n",
       "      <td>8.427249</td>\n",
       "      <td>-0.003986</td>\n",
       "      <td>-92.569181</td>\n",
       "      <td>21.157166</td>\n",
       "    </tr>\n",
       "    <tr>\n",
       "      <th>217</th>\n",
       "      <td>131</td>\n",
       "      <td>2K5X</td>\n",
       "      <td>B</td>\n",
       "      <td>132</td>\n",
       "      <td>ARG</td>\n",
       "      <td>0.169288</td>\n",
       "      <td>-0.612796</td>\n",
       "      <td>8.394909</td>\n",
       "      <td>-0.103905</td>\n",
       "      <td>55.729215</td>\n",
       "      <td>55.176435</td>\n",
       "    </tr>\n",
       "    <tr>\n",
       "      <th>218</th>\n",
       "      <td>132</td>\n",
       "      <td>2K5X</td>\n",
       "      <td>B</td>\n",
       "      <td>133</td>\n",
       "      <td>GLY</td>\n",
       "      <td>0.279679</td>\n",
       "      <td>-0.081681</td>\n",
       "      <td>8.460548</td>\n",
       "      <td>-0.103905</td>\n",
       "      <td>104.961551</td>\n",
       "      <td>0.000000</td>\n",
       "    </tr>\n",
       "    <tr>\n",
       "      <th>219</th>\n",
       "      <td>133</td>\n",
       "      <td>2K5X</td>\n",
       "      <td>B</td>\n",
       "      <td>134</td>\n",
       "      <td>LYS</td>\n",
       "      <td>0.279679</td>\n",
       "      <td>-0.081681</td>\n",
       "      <td>8.300938</td>\n",
       "      <td>-0.103905</td>\n",
       "      <td>-79.166487</td>\n",
       "      <td>0.000000</td>\n",
       "    </tr>\n",
       "  </tbody>\n",
       "</table>\n",
       "<p>220 rows × 11 columns</p>\n",
       "</div>"
      ],
      "text/plain": [
       "      id  code chain  order name  curvature   torsion  arc_length  writhing  \\\n",
       "0      0  2K5X     A      1  MET   1.171567  0.052793    8.114143  0.010657   \n",
       "1      1  2K5X     A      2  GLU   1.171567  0.052793    7.744241  0.010657   \n",
       "2      2  2K5X     A      3  LEU   0.516691 -0.049646    7.651813  0.010657   \n",
       "3      3  2K5X     A      4  LYS   0.691968 -0.162003    7.697065 -0.044531   \n",
       "4      4  2K5X     A      5  HIS   0.726271 -0.093555    8.377249 -0.064321   \n",
       "..   ...   ...   ...    ...  ...        ...       ...         ...       ...   \n",
       "215  129  2K5X     B    130  ILE   0.374667  0.169407    8.658262  0.222338   \n",
       "216  130  2K5X     B    131  HIS   0.532056 -0.019662    8.427249 -0.003986   \n",
       "217  131  2K5X     B    132  ARG   0.169288 -0.612796    8.394909 -0.103905   \n",
       "218  132  2K5X     B    133  GLY   0.279679 -0.081681    8.460548 -0.103905   \n",
       "219  133  2K5X     B    134  LYS   0.279679 -0.081681    8.300938 -0.103905   \n",
       "\n",
       "            phi         psi  \n",
       "0      0.000000 -162.771091  \n",
       "1    -82.501456   55.322023  \n",
       "2   -104.765995  151.772894  \n",
       "3    -91.287246  152.272637  \n",
       "4    -78.677457  -25.081189  \n",
       "..          ...         ...  \n",
       "215  -77.797020  -31.977884  \n",
       "216  -92.569181   21.157166  \n",
       "217   55.729215   55.176435  \n",
       "218  104.961551    0.000000  \n",
       "219  -79.166487    0.000000  \n",
       "\n",
       "[220 rows x 11 columns]"
      ]
     },
     "execution_count": 9,
     "metadata": {},
     "output_type": "execute_result"
    }
   ],
   "source": [
    "df = mel.geometry_from_structure(structure)\n",
    "df"
   ]
  },
  {
   "cell_type": "markdown",
   "id": "9f625345",
   "metadata": {},
   "source": [
    "### Create a dictionary of attribute from the parser"
   ]
  },
  {
   "cell_type": "code",
   "execution_count": 10,
   "id": "9f184ff4",
   "metadata": {},
   "outputs": [
    {
     "data": {
      "text/plain": [
       "ResidueGeometry(name='MET', chain='A', res_num=0, res_order=1, curvature=1.1715667454704115, torsion=0.05279292619204095, arc_len=8.114142887215975, writhing=0.010656569241575084, phi=0.0, psi=-162.77109080718967, res_ann={})"
      ]
     },
     "execution_count": 10,
     "metadata": {},
     "output_type": "execute_result"
    }
   ],
   "source": [
    "geo = mel.geometry_dict_from_structure(structure)\n",
    "geo['0:A'].residues[0]"
   ]
  },
  {
   "cell_type": "markdown",
   "id": "42caaf15",
   "metadata": {},
   "source": [
    "#### Set the b-factor as an attribute "
   ]
  },
  {
   "cell_type": "code",
   "execution_count": 11,
   "id": "8a2cfc22",
   "metadata": {},
   "outputs": [],
   "source": [
    "mel.bfactor_from_geo(structure=structure, attribute='torsion')"
   ]
  },
  {
   "cell_type": "markdown",
   "id": "4bb275ec",
   "metadata": {},
   "source": [
    "#### View structure as a putty model"
   ]
  },
  {
   "cell_type": "code",
   "execution_count": 12,
   "id": "8b0904e3",
   "metadata": {},
   "outputs": [
    {
     "data": {
      "application/vnd.jupyter.widget-view+json": {
       "model_id": "55121d9356674007a261d2bb749de2e5",
       "version_major": 2,
       "version_minor": 0
      },
      "text/plain": [
       "Box(children=(NGLWidget(layout=Layout(height='auto', width='auto')),), layout=Layout(height='600px', width='80…"
      ]
     },
     "metadata": {},
     "output_type": "display_data"
    }
   ],
   "source": [
    "#mel.view_putty(structure)\n",
    "mel.view_putty(structure[0], radius_scale=1.4, width=800, height=600)"
   ]
  },
  {
   "cell_type": "markdown",
   "id": "cfb56116",
   "metadata": {},
   "source": [
    "### Save the structure to a PDB file with the new bfactors"
   ]
  },
  {
   "cell_type": "code",
   "execution_count": 13,
   "id": "cbbc5d98",
   "metadata": {},
   "outputs": [],
   "source": [
    "io = PDBIO()\n",
    "io.set_structure(structure)\n",
    "io.save('out.pdb')"
   ]
  },
  {
   "cell_type": "markdown",
   "id": "cfbdafbe-2b1b-4600-a4a7-2f47714dbe19",
   "metadata": {},
   "source": [
    "## Acess the Propensity Table for a target residue"
   ]
  },
  {
   "cell_type": "code",
   "execution_count": 14,
   "id": "a5627221-18df-4ca2-b675-aea1d2fa248f",
   "metadata": {},
   "outputs": [],
   "source": [
    "ptable = mel.PropensityTable()"
   ]
  },
  {
   "cell_type": "code",
   "execution_count": 15,
   "id": "da767c6a-01ea-438d-a263-5d8416135fe6",
   "metadata": {},
   "outputs": [
    {
     "data": {
      "text/plain": [
       "-5"
      ]
     },
     "execution_count": 15,
     "metadata": {},
     "output_type": "execute_result"
    }
   ],
   "source": [
    "phi = -82.0\n",
    "psi =  55.0\n",
    "ptable.get_score(target='F', residue='A', phi=phi, psi=psi)"
   ]
  },
  {
   "cell_type": "code",
   "execution_count": null,
   "id": "06badff1-6d93-4fee-a70f-bf74ad5c32d4",
   "metadata": {},
   "outputs": [],
   "source": []
  }
 ],
 "metadata": {
  "kernelspec": {
   "display_name": "Python 3 (ipykernel)",
   "language": "python",
   "name": "python3"
  },
  "language_info": {
   "codemirror_mode": {
    "name": "ipython",
    "version": 3
   },
   "file_extension": ".py",
   "mimetype": "text/x-python",
   "name": "python",
   "nbconvert_exporter": "python",
   "pygments_lexer": "ipython3",
   "version": "3.8.12"
  }
 },
 "nbformat": 4,
 "nbformat_minor": 5
}
