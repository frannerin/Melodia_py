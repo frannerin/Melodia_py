{
 "cells": [
  {
   "cell_type": "markdown",
   "id": "a3bf69dd-86c8-49b2-957e-ee1194f43419",
   "metadata": {},
   "source": [
    "# Aligment Clustering and PDB Superimposition\n",
    "\n",
    "This example illustrates how to use Melodia to compare structural similarities between protein family members and superimpose their strucutes."
   ]
  },
  {
   "cell_type": "code",
   "execution_count": 1,
   "id": "c01fb56e-5dfd-4fb3-9870-f70ca664092d",
   "metadata": {},
   "source": [
    "import warnings\n",
    "\n",
    "import melodia as mel\n",
    "import seaborn as sns\n",
    "\n",
    "from melodia.clustering import superimposer, show_align\n",
    "from Bio.PDB.PDBExceptions import PDBConstructionWarning\n",
    "\n",
    "warnings.filterwarnings('ignore', category=PDBConstructionWarning)"
   ],
   "outputs": []
  },
  {
   "cell_type": "markdown",
   "id": "7daa2f70-8112-4a08-a383-5b8737cf4ef4",
   "metadata": {},
   "source": [
    "**Open the alignment file**\n",
    "\n",
    "*For addtional information about the aligment format and PDB files see notebook 2.*"
   ]
  },
  {
   "cell_type": "code",
   "execution_count": 2,
   "id": "ae9ea67e-bab1-4d6c-a569-483be3d3e7e4",
   "metadata": {},
   "source": [
    "align = mel.parser_pir_file('model.ali')"
   ],
   "outputs": []
  },
  {
   "cell_type": "markdown",
   "id": "d54eae6d-4fee-4c74-9430-41e063ce26c0",
   "metadata": {},
   "source": [
    "**Call the superimposer for the aligment**"
   ]
  },
  {
   "cell_type": "code",
   "execution_count": 3,
   "id": "20e5246c-9779-4c1c-8c19-819745799942",
   "metadata": {},
   "source": [
    "superimposer(align=align, threshold=1.1, csv=True, pdb=True)"
   ],
   "outputs": []
  },
  {
   "cell_type": "markdown",
   "id": "5d6a6d23-ddcd-43f5-af7d-106a364a2b49",
   "metadata": {},
   "source": [
    "***\n",
    "The csv=**True** argument specifies the output of the α-Carbons coordinates and their respective clusters. The pdb=**True** outputs the superimposed pdb files as *_sup.pdb (ex: 1cdoa_sup.pdb).\n",
    "***"
   ]
  },
  {
   "cell_type": "markdown",
   "id": "b9dc2907-e6b5-4451-9d55-71cdce0a0757",
   "metadata": {},
   "source": [
    "**Show the selected core regions in the aligment**"
   ]
  },
  {
   "cell_type": "code",
   "execution_count": 4,
   "id": "7dc082de-3b5a-4e00-b950-4a423776e1db",
   "metadata": {},
   "source": [
    "palette='Dark2'\n",
    "colors=7\n",
    "\n",
    "pal = sns.color_palette(palette, colors)\n",
    "pal"
   ],
   "outputs": []
  },
  {
   "cell_type": "markdown",
   "id": "4d34c503-e890-4655-9f80-541a2243548b",
   "metadata": {},
   "source": [
    "The **show_align** function display the protein conserved core that was used for superimposing the family structures."
   ]
  },
  {
   "cell_type": "code",
   "execution_count": 5,
   "id": "cd7f3900-5e0d-4e6c-bb44-cdb847004561",
   "metadata": {},
   "source": [
    "show_align(align, pal)"
   ],
   "outputs": []
  },
  {
   "cell_type": "markdown",
   "id": "b94c0f35-27be-4855-8422-5beb1806f4c7",
   "metadata": {},
   "source": [
    "***\n",
    "The **mayavi_draw_ca.py** script is a visualisation example for displaying the α-Carbons with conserved core coloured.\n",
    "It needs the [Mayavi](https://docs.enthought.com/mayavi/mayavi) library, and the *mayavi_enviroment.yml* file provides a Conda environment for installing it. \n",
    "***\n",
    "![family core](family_core.png)"
   ]
  },
  {
   "cell_type": "code",
   "execution_count": null,
   "id": "0c0be835-517e-4a01-bebe-207284450aa8",
   "metadata": {},
   "source": [],
   "outputs": []
  }
 ],
 "metadata": {
  "kernelspec": {
   "display_name": "Python 3 (ipykernel)",
   "language": "python",
   "name": "python3"
  },
  "language_info": {
   "codemirror_mode": {
    "name": "ipython",
    "version": 3
   },
   "file_extension": ".py",
   "mimetype": "text/x-python",
   "name": "python",
   "nbconvert_exporter": "python",
   "pygments_lexer": "ipython3",
   "version": "3.12.2"
  }
 },
 "nbformat": 4,
 "nbformat_minor": 5
}
