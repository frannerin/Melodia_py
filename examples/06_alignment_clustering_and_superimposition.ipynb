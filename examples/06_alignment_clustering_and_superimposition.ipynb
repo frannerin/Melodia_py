{
 "cells": [
  {
   "cell_type": "code",
   "execution_count": 3,
   "id": "c01fb56e-5dfd-4fb3-9870-f70ca664092d",
   "metadata": {},
   "outputs": [],
   "source": [
    "import warnings\n",
    "\n",
    "import melodia as mel\n",
    "import seaborn as sns\n",
    "\n",
    "from melodia.clustering import superimposer, show_align\n",
    "from Bio.PDB.PDBExceptions import PDBConstructionWarning\n",
    "\n",
    "warnings.filterwarnings('ignore', category=PDBConstructionWarning)"
   ]
  },
  {
   "cell_type": "code",
   "execution_count": 4,
   "id": "ae9ea67e-bab1-4d6c-a569-483be3d3e7e4",
   "metadata": {},
   "outputs": [],
   "source": [
    "align = mel.parser_pir_file('model.ali')"
   ]
  },
  {
   "cell_type": "code",
   "execution_count": 5,
   "id": "20e5246c-9779-4c1c-8c19-819745799942",
   "metadata": {},
   "outputs": [
    {
     "name": "stdout",
     "output_type": "stream",
     "text": [
      "1cdoa\n",
      "1d1ta: 5.32 Å\n",
      "1teha: 4.82 Å\n",
      "2ohxa: 4.57 Å\n",
      "3huda: 4.60 Å\n"
     ]
    }
   ],
   "source": [
    "superimposer(align=align, csv=True)"
   ]
  },
  {
   "cell_type": "code",
   "execution_count": null,
   "id": "7dc082de-3b5a-4e00-b950-4a423776e1db",
   "metadata": {},
   "outputs": [],
   "source": [
    "palette='Dark2'\n",
    "colors=7\n",
    "\n",
    "pal = sns.color_palette(palette, colors)\n",
    "pal"
   ]
  },
  {
   "cell_type": "code",
   "execution_count": null,
   "id": "cd7f3900-5e0d-4e6c-bb44-cdb847004561",
   "metadata": {},
   "outputs": [],
   "source": [
    "show_align(align, pal)"
   ]
  }
 ],
 "metadata": {
  "kernelspec": {
   "display_name": "Python 3 (ipykernel)",
   "language": "python",
   "name": "python3"
  },
  "language_info": {
   "codemirror_mode": {
    "name": "ipython",
    "version": 3
   },
   "file_extension": ".py",
   "mimetype": "text/x-python",
   "name": "python",
   "nbconvert_exporter": "python",
   "pygments_lexer": "ipython3",
   "version": "3.12.2"
  }
 },
 "nbformat": 4,
 "nbformat_minor": 5
}
