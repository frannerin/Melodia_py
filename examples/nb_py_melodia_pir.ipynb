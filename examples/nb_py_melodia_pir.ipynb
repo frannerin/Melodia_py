{
 "cells": [
  {
   "cell_type": "markdown",
   "id": "fed03c08-d374-4725-b73e-444569c138d8",
   "metadata": {},
   "source": [
    "# Melodia\n",
    "\n",
    "## Example of structural alignment usage"
   ]
  },
  {
   "cell_type": "code",
   "execution_count": 1,
   "id": "d62ae12c-eefd-4f10-83a2-025c9e3e0844",
   "metadata": {},
   "outputs": [
    {
     "data": {
      "application/vnd.jupyter.widget-view+json": {
       "model_id": "19a873655e4549ef89074ba2bcdc3340",
       "version_major": 2,
       "version_minor": 0
      },
      "text/plain": []
     },
     "metadata": {},
     "output_type": "display_data"
    }
   ],
   "source": [
    "import warnings\n",
    "\n",
    "import pandas as pd\n",
    "import melodia as mel\n",
    "\n",
    "from Bio.PDB.PDBExceptions import PDBConstructionWarning"
   ]
  },
  {
   "cell_type": "code",
   "execution_count": 2,
   "id": "fe9f89dd-07ae-4b37-a295-9e9d6decef95",
   "metadata": {},
   "outputs": [],
   "source": [
    "warnings.filterwarnings(\"ignore\", category=PDBConstructionWarning)"
   ]
  },
  {
   "cell_type": "markdown",
   "id": "d2e343cc-13c5-4cbb-824c-4ce8347197b4",
   "metadata": {},
   "source": [
    "### Only PIR file format supported"
   ]
  },
  {
   "cell_type": "code",
   "execution_count": 3,
   "id": "70f59e69-cbe1-4d03-8e1e-f838472beb93",
   "metadata": {},
   "outputs": [],
   "source": [
    "align = mel.parser_pir_file('model.ali')"
   ]
  },
  {
   "cell_type": "code",
   "execution_count": 4,
   "id": "e4f7e6e8-811c-4f90-8f83-ff6693816588",
   "metadata": {},
   "outputs": [],
   "source": [
    "record = align[0]"
   ]
  },
  {
   "cell_type": "code",
   "execution_count": 5,
   "id": "1a77bdb8-90d5-48a5-b6e3-8dc1e40e1b9a",
   "metadata": {},
   "outputs": [
    {
     "data": {
      "text/plain": [
       "'1cdoa'"
      ]
     },
     "execution_count": 5,
     "metadata": {},
     "output_type": "execute_result"
    }
   ],
   "source": [
    "record.id"
   ]
  },
  {
   "cell_type": "code",
   "execution_count": 6,
   "id": "7757b5bd-a5d5-4551-8949-61bb05a43e48",
   "metadata": {},
   "outputs": [
    {
     "data": {
      "text/plain": [
       "Seq('ATVGKVIKCKAAVAWEANKPLVIEEIEVDVPHANEIRIKIIATGVCHTDLYHLF...LSL')"
      ]
     },
     "execution_count": 6,
     "metadata": {},
     "output_type": "execute_result"
    }
   ],
   "source": [
    "record.seq"
   ]
  },
  {
   "cell_type": "code",
   "execution_count": 7,
   "id": "6b0fe4ea-ca30-48e5-af17-e0654890fbb4",
   "metadata": {},
   "outputs": [
    {
     "data": {
      "text/plain": [
       "dict_keys(['curvature', 'torsion', 'arc_length', 'writhing', 'phi', 'psi'])"
      ]
     },
     "execution_count": 7,
     "metadata": {},
     "output_type": "execute_result"
    }
   ],
   "source": [
    "record.letter_annotations.keys()"
   ]
  },
  {
   "cell_type": "code",
   "execution_count": 8,
   "id": "b945471d-b771-49c6-a291-50517259e1b4",
   "metadata": {},
   "outputs": [
    {
     "data": {
      "text/html": [
       "<div>\n",
       "<style scoped>\n",
       "    .dataframe tbody tr th:only-of-type {\n",
       "        vertical-align: middle;\n",
       "    }\n",
       "\n",
       "    .dataframe tbody tr th {\n",
       "        vertical-align: top;\n",
       "    }\n",
       "\n",
       "    .dataframe thead th {\n",
       "        text-align: right;\n",
       "    }\n",
       "</style>\n",
       "<table border=\"1\" class=\"dataframe\">\n",
       "  <thead>\n",
       "    <tr style=\"text-align: right;\">\n",
       "      <th></th>\n",
       "      <th>seq_1cdoa</th>\n",
       "      <th>curvature_1cdoa</th>\n",
       "      <th>torsion_1cdoa</th>\n",
       "      <th>seq_1d1ta</th>\n",
       "      <th>curvature_1d1ta</th>\n",
       "      <th>torsion_1d1ta</th>\n",
       "      <th>seq_1teha</th>\n",
       "      <th>curvature_1teha</th>\n",
       "      <th>torsion_1teha</th>\n",
       "      <th>seq_2ohxa</th>\n",
       "      <th>curvature_2ohxa</th>\n",
       "      <th>torsion_2ohxa</th>\n",
       "      <th>seq_3huda</th>\n",
       "      <th>curvature_3huda</th>\n",
       "      <th>torsion_3huda</th>\n",
       "    </tr>\n",
       "  </thead>\n",
       "  <tbody>\n",
       "    <tr>\n",
       "      <th>0</th>\n",
       "      <td>A</td>\n",
       "      <td>0.911238</td>\n",
       "      <td>0.110831</td>\n",
       "      <td>G</td>\n",
       "      <td>1.047306</td>\n",
       "      <td>0.110002</td>\n",
       "      <td>-</td>\n",
       "      <td>0.000000</td>\n",
       "      <td>0.000000</td>\n",
       "      <td>S</td>\n",
       "      <td>0.858952</td>\n",
       "      <td>0.103759</td>\n",
       "      <td>S</td>\n",
       "      <td>0.794220</td>\n",
       "      <td>0.107699</td>\n",
       "    </tr>\n",
       "    <tr>\n",
       "      <th>1</th>\n",
       "      <td>T</td>\n",
       "      <td>0.911238</td>\n",
       "      <td>0.110831</td>\n",
       "      <td>T</td>\n",
       "      <td>1.047306</td>\n",
       "      <td>0.110002</td>\n",
       "      <td>-</td>\n",
       "      <td>0.000000</td>\n",
       "      <td>0.000000</td>\n",
       "      <td>T</td>\n",
       "      <td>0.858952</td>\n",
       "      <td>0.103759</td>\n",
       "      <td>T</td>\n",
       "      <td>0.794220</td>\n",
       "      <td>0.107699</td>\n",
       "    </tr>\n",
       "    <tr>\n",
       "      <th>2</th>\n",
       "      <td>V</td>\n",
       "      <td>0.434979</td>\n",
       "      <td>0.044909</td>\n",
       "      <td>A</td>\n",
       "      <td>0.454057</td>\n",
       "      <td>0.032614</td>\n",
       "      <td>A</td>\n",
       "      <td>0.644497</td>\n",
       "      <td>0.121356</td>\n",
       "      <td>A</td>\n",
       "      <td>0.505272</td>\n",
       "      <td>0.043087</td>\n",
       "      <td>A</td>\n",
       "      <td>0.463674</td>\n",
       "      <td>0.074985</td>\n",
       "    </tr>\n",
       "    <tr>\n",
       "      <th>3</th>\n",
       "      <td>G</td>\n",
       "      <td>0.822893</td>\n",
       "      <td>0.062217</td>\n",
       "      <td>G</td>\n",
       "      <td>0.801947</td>\n",
       "      <td>0.048148</td>\n",
       "      <td>N</td>\n",
       "      <td>0.644497</td>\n",
       "      <td>0.121356</td>\n",
       "      <td>G</td>\n",
       "      <td>0.697603</td>\n",
       "      <td>0.059488</td>\n",
       "      <td>G</td>\n",
       "      <td>0.572861</td>\n",
       "      <td>0.099983</td>\n",
       "    </tr>\n",
       "    <tr>\n",
       "      <th>4</th>\n",
       "      <td>K</td>\n",
       "      <td>0.390131</td>\n",
       "      <td>-0.000838</td>\n",
       "      <td>K</td>\n",
       "      <td>0.504131</td>\n",
       "      <td>-0.012812</td>\n",
       "      <td>E</td>\n",
       "      <td>0.535522</td>\n",
       "      <td>-0.003564</td>\n",
       "      <td>K</td>\n",
       "      <td>0.366238</td>\n",
       "      <td>-0.007581</td>\n",
       "      <td>K</td>\n",
       "      <td>0.347366</td>\n",
       "      <td>0.004505</td>\n",
       "    </tr>\n",
       "    <tr>\n",
       "      <th>...</th>\n",
       "      <td>...</td>\n",
       "      <td>...</td>\n",
       "      <td>...</td>\n",
       "      <td>...</td>\n",
       "      <td>...</td>\n",
       "      <td>...</td>\n",
       "      <td>...</td>\n",
       "      <td>...</td>\n",
       "      <td>...</td>\n",
       "      <td>...</td>\n",
       "      <td>...</td>\n",
       "      <td>...</td>\n",
       "      <td>...</td>\n",
       "      <td>...</td>\n",
       "      <td>...</td>\n",
       "    </tr>\n",
       "    <tr>\n",
       "      <th>370</th>\n",
       "      <td>T</td>\n",
       "      <td>0.061095</td>\n",
       "      <td>-0.749860</td>\n",
       "      <td>T</td>\n",
       "      <td>0.034498</td>\n",
       "      <td>-0.396712</td>\n",
       "      <td>T</td>\n",
       "      <td>0.064316</td>\n",
       "      <td>-0.835178</td>\n",
       "      <td>T</td>\n",
       "      <td>0.045135</td>\n",
       "      <td>-0.640673</td>\n",
       "      <td>T</td>\n",
       "      <td>0.054648</td>\n",
       "      <td>-0.794150</td>\n",
       "    </tr>\n",
       "    <tr>\n",
       "      <th>371</th>\n",
       "      <td>V</td>\n",
       "      <td>0.023665</td>\n",
       "      <td>2.478913</td>\n",
       "      <td>V</td>\n",
       "      <td>0.044883</td>\n",
       "      <td>1.333118</td>\n",
       "      <td>V</td>\n",
       "      <td>0.038668</td>\n",
       "      <td>1.412668</td>\n",
       "      <td>I</td>\n",
       "      <td>0.027378</td>\n",
       "      <td>2.689517</td>\n",
       "      <td>V</td>\n",
       "      <td>0.034529</td>\n",
       "      <td>1.895340</td>\n",
       "    </tr>\n",
       "    <tr>\n",
       "      <th>372</th>\n",
       "      <td>L</td>\n",
       "      <td>0.120265</td>\n",
       "      <td>0.082923</td>\n",
       "      <td>L</td>\n",
       "      <td>0.149571</td>\n",
       "      <td>0.055948</td>\n",
       "      <td>V</td>\n",
       "      <td>0.084575</td>\n",
       "      <td>0.152802</td>\n",
       "      <td>L</td>\n",
       "      <td>0.150112</td>\n",
       "      <td>0.031978</td>\n",
       "      <td>L</td>\n",
       "      <td>0.144089</td>\n",
       "      <td>0.042052</td>\n",
       "    </tr>\n",
       "    <tr>\n",
       "      <th>373</th>\n",
       "      <td>S</td>\n",
       "      <td>0.176591</td>\n",
       "      <td>0.207345</td>\n",
       "      <td>T</td>\n",
       "      <td>0.098639</td>\n",
       "      <td>-0.130311</td>\n",
       "      <td>K</td>\n",
       "      <td>0.248367</td>\n",
       "      <td>0.170128</td>\n",
       "      <td>T</td>\n",
       "      <td>0.125465</td>\n",
       "      <td>-0.016873</td>\n",
       "      <td>T</td>\n",
       "      <td>0.139156</td>\n",
       "      <td>-0.010417</td>\n",
       "    </tr>\n",
       "    <tr>\n",
       "      <th>374</th>\n",
       "      <td>L</td>\n",
       "      <td>0.176591</td>\n",
       "      <td>0.207345</td>\n",
       "      <td>F</td>\n",
       "      <td>0.098639</td>\n",
       "      <td>-0.130311</td>\n",
       "      <td>I</td>\n",
       "      <td>0.248367</td>\n",
       "      <td>0.170128</td>\n",
       "      <td>F</td>\n",
       "      <td>0.125465</td>\n",
       "      <td>-0.016873</td>\n",
       "      <td>F</td>\n",
       "      <td>0.139156</td>\n",
       "      <td>-0.010417</td>\n",
       "    </tr>\n",
       "  </tbody>\n",
       "</table>\n",
       "<p>375 rows × 15 columns</p>\n",
       "</div>"
      ],
      "text/plain": [
       "    seq_1cdoa  curvature_1cdoa  torsion_1cdoa seq_1d1ta  curvature_1d1ta  \\\n",
       "0           A         0.911238       0.110831         G         1.047306   \n",
       "1           T         0.911238       0.110831         T         1.047306   \n",
       "2           V         0.434979       0.044909         A         0.454057   \n",
       "3           G         0.822893       0.062217         G         0.801947   \n",
       "4           K         0.390131      -0.000838         K         0.504131   \n",
       "..        ...              ...            ...       ...              ...   \n",
       "370         T         0.061095      -0.749860         T         0.034498   \n",
       "371         V         0.023665       2.478913         V         0.044883   \n",
       "372         L         0.120265       0.082923         L         0.149571   \n",
       "373         S         0.176591       0.207345         T         0.098639   \n",
       "374         L         0.176591       0.207345         F         0.098639   \n",
       "\n",
       "     torsion_1d1ta seq_1teha  curvature_1teha  torsion_1teha seq_2ohxa  \\\n",
       "0         0.110002         -         0.000000       0.000000         S   \n",
       "1         0.110002         -         0.000000       0.000000         T   \n",
       "2         0.032614         A         0.644497       0.121356         A   \n",
       "3         0.048148         N         0.644497       0.121356         G   \n",
       "4        -0.012812         E         0.535522      -0.003564         K   \n",
       "..             ...       ...              ...            ...       ...   \n",
       "370      -0.396712         T         0.064316      -0.835178         T   \n",
       "371       1.333118         V         0.038668       1.412668         I   \n",
       "372       0.055948         V         0.084575       0.152802         L   \n",
       "373      -0.130311         K         0.248367       0.170128         T   \n",
       "374      -0.130311         I         0.248367       0.170128         F   \n",
       "\n",
       "     curvature_2ohxa  torsion_2ohxa seq_3huda  curvature_3huda  torsion_3huda  \n",
       "0           0.858952       0.103759         S         0.794220       0.107699  \n",
       "1           0.858952       0.103759         T         0.794220       0.107699  \n",
       "2           0.505272       0.043087         A         0.463674       0.074985  \n",
       "3           0.697603       0.059488         G         0.572861       0.099983  \n",
       "4           0.366238      -0.007581         K         0.347366       0.004505  \n",
       "..               ...            ...       ...              ...            ...  \n",
       "370         0.045135      -0.640673         T         0.054648      -0.794150  \n",
       "371         0.027378       2.689517         V         0.034529       1.895340  \n",
       "372         0.150112       0.031978         L         0.144089       0.042052  \n",
       "373         0.125465      -0.016873         T         0.139156      -0.010417  \n",
       "374         0.125465      -0.016873         F         0.139156      -0.010417  \n",
       "\n",
       "[375 rows x 15 columns]"
      ]
     },
     "execution_count": 8,
     "metadata": {},
     "output_type": "execute_result"
    }
   ],
   "source": [
    "mel.dataframe_from_alignment(align=align, keys=['curvature', 'torsion'])"
   ]
  },
  {
   "cell_type": "code",
   "execution_count": null,
   "id": "d186d4ba-945f-4c74-9eb8-696925183224",
   "metadata": {},
   "outputs": [],
   "source": []
  }
 ],
 "metadata": {
  "kernelspec": {
   "display_name": "Python 3 (ipykernel)",
   "language": "python",
   "name": "python3"
  },
  "language_info": {
   "codemirror_mode": {
    "name": "ipython",
    "version": 3
   },
   "file_extension": ".py",
   "mimetype": "text/x-python",
   "name": "python",
   "nbconvert_exporter": "python",
   "pygments_lexer": "ipython3",
   "version": "3.8.12"
  }
 },
 "nbformat": 4,
 "nbformat_minor": 5
}
