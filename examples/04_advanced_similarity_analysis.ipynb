{
 "cells": [
  {
   "cell_type": "markdown",
   "id": "fed03c08-d374-4725-b73e-444569c138d8",
   "metadata": {},
   "source": [
    "# Advanced Structure Similarity Analysis\n",
    "\n",
    "This advanced example will illustrate how to use Melodia to compare structural similarities between protein family members. Curvature and torsion are very sensitive to small changes in the backbone geometry and are also rotational invariant. Thus, they are robust descriptors for finding the protein family building blocks."
   ]
  },
  {
   "cell_type": "code",
   "execution_count": 1,
   "id": "d62ae12c-eefd-4f10-83a2-025c9e3e0844",
   "metadata": {},
   "source": [
    "import dill\n",
    "import warnings\n",
    "\n",
    "import pandas as pd\n",
    "import melodia as mel\n",
    "import seaborn as sns\n",
    "import matplotlib.pyplot as plt\n",
    "\n",
    "from os import path\n",
    "from math import sqrt\n",
    "from sklearn.preprocessing import StandardScaler\n",
    "from Bio.PDB.PDBExceptions import PDBConstructionWarning\n",
    "\n",
    "warnings.filterwarnings(\"ignore\", category=PDBConstructionWarning)"
   ],
   "outputs": []
  },
  {
   "cell_type": "markdown",
   "id": "d2e343cc-13c5-4cbb-824c-4ce8347197b4",
   "metadata": {},
   "source": [
    "The first step is to read and process an alignment file. See **Notebook 2** for more information about this process."
   ]
  },
  {
   "cell_type": "code",
   "execution_count": 2,
   "id": "70f59e69-cbe1-4d03-8e1e-f838472beb93",
   "metadata": {},
   "source": [
    "# Dill can be used for storage\n",
    "if path.exists('model.dill'):\n",
    "    with open('model.dill', 'rb') as file:\n",
    "        align = dill.load(file)\n",
    "else:\n",
    "    align = mel.parser_pir_file('model.ali')\n",
    "    with open('model.dill', 'wb') as file:\n",
    "        dill.dump(align, file)"
   ],
   "outputs": []
  },
  {
   "cell_type": "code",
   "execution_count": 3,
   "id": "62587060-fdca-477e-bcf1-e381490dcc0f",
   "metadata": {},
   "source": [
    "# Create a Pandas DataFrame for only the Curvature and Torsion descriptors\n",
    "df = mel.dataframe_from_alignment(align=align, keys=['curvature', 'torsion'])\n",
    "df.head()"
   ],
   "outputs": []
  },
  {
   "cell_type": "code",
   "execution_count": 4,
   "id": "28ee1d35-99e8-4aad-a25c-2c75fabaf82e",
   "metadata": {},
   "source": [
    "# Get the ids for all the sequences with a structure file\n",
    "ids = [record.description.split(':')[1] for record in align if 'structure' in record.description]\n",
    "ids"
   ],
   "outputs": []
  },
  {
   "cell_type": "code",
   "execution_count": 5,
   "id": "461d18f6-159a-4657-8806-576db9cfb054",
   "metadata": {},
   "source": [
    "# Creat a copy\n",
    "dfa = df.copy()\n",
    "\n",
    "# Define the scikit-learn autoscaler\n",
    "autoscaler = StandardScaler()\n",
    "\n",
    "# Create a list for the feature to scale\n",
    "features = []\n",
    "for id in ids:\n",
    "    features.append(f'curvature_{id}')\n",
    "    features.append(f'torsion_{id}')\n",
    "\n",
    "# Apply the autoscaler\n",
    "dfa[features] = autoscaler.fit_transform(dfa[features])"
   ],
   "outputs": []
  },
  {
   "cell_type": "code",
   "execution_count": 6,
   "id": "2cdf32c5-3252-489e-aa5a-cb59635835be",
   "metadata": {},
   "source": [
    "# Plot the scaled data for the 1st protein\n",
    "cmap = sns.color_palette(\"Blues\", as_cmap=True)\n",
    "sns.jointplot(x=features[0], y=features[1], data=dfa, kind='kde', cmap=cmap, height=10, fill=True);"
   ],
   "outputs": []
  },
  {
   "cell_type": "code",
   "execution_count": 7,
   "id": "18ad7c00-8664-41bf-86fc-d9a0be510cbc",
   "metadata": {},
   "source": [
    "# Copy the ids and POP one of the proteins as the base\n",
    "tags = ids.copy()\n",
    "base = tags.pop()\n",
    "base"
   ],
   "outputs": []
  },
  {
   "cell_type": "markdown",
   "id": "c61f73da-03b0-4023-8775-0f8695ac5b0f",
   "metadata": {},
   "source": [
    "In this case, we will compare the *base protein* with **all** the other *aligned proteins*. Our idea is to find regions of high similarity with the base protein in all the other proteins."
   ]
  },
  {
   "cell_type": "code",
   "execution_count": 8,
   "id": "ce858aeb-045b-48b0-aa00-b9713915d5ea",
   "metadata": {},
   "source": [
    "# Define the Euclidian distance between the base protein and the cmp protein\n",
    "def dist(row):\n",
    "    d = (row[f'curvature_{base}'] - row[f'curvature_{cmp}'])**2 + (row[f'torsion_{base}'] - row[f'torsion_{cmp}'])**2\n",
    "    return sqrt(d)\n",
    "\n",
    "# Create new columns with the Euclidian distance\n",
    "columns = []\n",
    "for cmp in tags:    \n",
    "    dfa[f'{base}_{cmp}'] = dfa.apply(dist, axis=1)\n",
    "    columns.append(f'{base}_{cmp}')"
   ],
   "outputs": []
  },
  {
   "cell_type": "code",
   "execution_count": 9,
   "id": "a93325f6-f628-4803-b92b-1a81be6eeada",
   "metadata": {},
   "source": [
    "dfa[[i for i in dfa.columns if 'seq' in i] + columns]"
   ],
   "outputs": []
  },
  {
   "cell_type": "code",
   "execution_count": 10,
   "id": "97baedb9-e7e5-4f0e-ac68-321725df2b60",
   "metadata": {},
   "source": [
    "# Select the 1st protein for comparison\n",
    "column = columns[0]\n",
    "df_clust = dfa[column].copy().reset_index()\n",
    "df_clust.head()"
   ],
   "outputs": []
  },
  {
   "cell_type": "markdown",
   "id": "bdf66ca5-a037-4da8-9fca-1fa4c34a0074",
   "metadata": {},
   "source": [
    "***\n",
    "This simple algorithm selects regions with similarity under the specified threshold. The algorithm ensures that those regions are at least three residues long.\n",
    "***"
   ]
  },
  {
   "cell_type": "code",
   "execution_count": 11,
   "id": "1eb6ca0d-6a86-449d-8dbb-cc230aca879b",
   "metadata": {},
   "source": [
    "import more_itertools as mit\n",
    "\n",
    "threshold = 0.5\n",
    "\n",
    "clabels = [0 if x > threshold else 1 for x in list(df_clust[column])]\n",
    "\n",
    "similar = [i for i, label in enumerate(clabels) if label > 0]\n",
    "\n",
    "regions = [list(group) for group in mit.consecutive_groups(similar)]\n",
    "\n",
    "for i, block in enumerate(regions):\n",
    "    if len(block) >= 3:\n",
    "        value = i\n",
    "    else:\n",
    "        value = 0\n",
    "    for j in block:\n",
    "        clabels[j] = value"
   ],
   "outputs": []
  },
  {
   "cell_type": "code",
   "execution_count": 13,
   "id": "9bc55960-6e67-4659-a2a9-70c1a7a7e14a",
   "metadata": {},
   "source": [
    "# Display the similar regions between the two proteins\n",
    "n_clusters = max(clabels)+1\n",
    "\n",
    "color_palette = sns.color_palette('Dark2', n_clusters)\n",
    "cluster_colors = [color_palette[x] if x > 0 else (1.0, 1.0, 1.0) for x in clabels]\n",
    "\n",
    "ax = df_clust.plot.scatter(x='index', y=column, s=50, linewidth=0, c=cluster_colors, alpha=1.0, figsize=(6.4*3.5, 4.8*1.5));\n",
    "df_clust.plot(x='index', y=column, figsize=(6.4*3.5, 4.8*1.5), ax=ax)\n",
    "plt.title(f'{n_clusters}')\n",
    "plt.grid()"
   ],
   "outputs": []
  },
  {
   "cell_type": "code",
   "execution_count": null,
   "id": "c2c2945e-b51f-455f-bc00-bf3209cc299c",
   "metadata": {},
   "source": [],
   "outputs": []
  }
 ],
 "metadata": {
  "kernelspec": {
   "display_name": "Python 3 (ipykernel)",
   "language": "python",
   "name": "python3"
  },
  "language_info": {
   "codemirror_mode": {
    "name": "ipython",
    "version": 3
   },
   "file_extension": ".py",
   "mimetype": "text/x-python",
   "name": "python",
   "nbconvert_exporter": "python",
   "pygments_lexer": "ipython3",
   "version": "3.12.2"
  }
 },
 "nbformat": 4,
 "nbformat_minor": 5
}
