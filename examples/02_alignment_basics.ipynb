{
 "cells": [
  {
   "cell_type": "markdown",
   "id": "fed03c08-d374-4725-b73e-444569c138d8",
   "metadata": {},
   "source": [
    "# Getting Started with Alignment Files in Melodia"
   ]
  },
  {
   "cell_type": "code",
   "execution_count": 15,
   "id": "d62ae12c-eefd-4f10-83a2-025c9e3e0844",
   "metadata": {},
   "source": [
    "import dill\n",
    "import warnings\n",
    "\n",
    "import pandas as pd\n",
    "import melodia as mel\n",
    "import seaborn as sns\n",
    "\n",
    "from os import path\n",
    "from Bio.PDB.PDBExceptions import PDBConstructionWarning\n",
    "\n",
    "warnings.filterwarnings(\"ignore\", category=PDBConstructionWarning)"
   ],
   "outputs": []
  },
  {
   "cell_type": "markdown",
   "id": "d2e343cc-13c5-4cbb-824c-4ce8347197b4",
   "metadata": {},
   "source": [
    "## Parsing an alignment in the PIR file format\n",
    "\n",
    "Melodia can read PIR alignment files and parse the geometric descriptors from the PDB files in the same directory.\n",
    "\n",
    "***\n",
    "![PIR record](model_pir.png)\n",
    "***\n",
    "\n",
    "In this example, the **structureX**  and the  **>P1;1cdoa** records inform Melodia that this sequence is related to a protein structure in a file called **1cdoa.pdb**."
   ]
  },
  {
   "cell_type": "code",
   "execution_count": 4,
   "id": "70f59e69-cbe1-4d03-8e1e-f838472beb93",
   "metadata": {},
   "source": [
    "# Dill can be used for storage\n",
    "\n",
    "# Load the model if it already exists\n",
    "if path.exists('model.dill'):\n",
    "    with open('model.dill', 'rb') as file:\n",
    "        align = dill.load(file)\n",
    "else:\n",
    "    # Parser and save a new alignment\n",
    "    align = mel.parser_pir_file('model.ali')\n",
    "    with open('model.dill', 'wb') as file:\n",
    "        dill.dump(align, file)"
   ],
   "outputs": []
  },
  {
   "cell_type": "markdown",
   "id": "be6e8318-15a4-490a-bf54-2917a1a22e27",
   "metadata": {},
   "source": [
    "The result is a BioPython alignment:\n",
    "\n",
    "https://biopython.org/docs/1.74/api/Bio.Align.html"
   ]
  },
  {
   "cell_type": "code",
   "execution_count": 5,
   "id": "9a6f99ed-ac19-45ac-89cd-e119d67f7dfd",
   "metadata": {},
   "source": [
    "align"
   ],
   "outputs": []
  },
  {
   "cell_type": "code",
   "execution_count": 7,
   "id": "e4f7e6e8-811c-4f90-8f83-ff6693816588",
   "metadata": {},
   "source": [
    "# It easy to iterate over the alignment records \n",
    "for record in align:\n",
    "    print(record)\n",
    "    break"
   ],
   "outputs": []
  },
  {
   "cell_type": "markdown",
   "id": "0c6c3e5d-e26b-4020-8a9a-788dcd1bfeb9",
   "metadata": {},
   "source": [
    "## Accessing Geometric Attributes\n",
    "\n",
    "All geometric attributes can be accessed through the letter_annotations funcionality:\n",
    "\n",
    "https://biopython.org/docs/1.75/api/Bio.SeqRecord.html"
   ]
  },
  {
   "cell_type": "code",
   "execution_count": 11,
   "id": "6b0fe4ea-ca30-48e5-af17-e0654890fbb4",
   "metadata": {},
   "source": [
    "# Select the third sequence in the alignment\n",
    "record = align[2]\n",
    "\n",
    "# Print some of the record's data\n",
    "print(record.id)\n",
    "print(record.seq)\n",
    "print(record.letter_annotations.keys())\n",
    "print()"
   ],
   "outputs": []
  },
  {
   "cell_type": "markdown",
   "id": "63483f37-bd27-426e-a8c8-8dcd2e5e355f",
   "metadata": {},
   "source": [
    "It is easy to access and work with the alignment data with the geometric annotation."
   ]
  },
  {
   "cell_type": "code",
   "execution_count": 13,
   "id": "92a941ab-ff3f-4d55-aeed-7b4d5ce9e175",
   "metadata": {},
   "source": [
    "# Print the curvature and torsion for a few residues\n",
    "for i, residue in enumerate(record.seq):\n",
    "    print(f\"{i} - {residue} - {record.letter_annotations['curvature'][i]:7.4f} - {record.letter_annotations['torsion'][i]:7.4f}\")\n",
    "    if i > 4:\n",
    "        break"
   ],
   "outputs": []
  },
  {
   "cell_type": "markdown",
   "id": "d12e2911-530c-4015-8994-fd6c89ca2591",
   "metadata": {},
   "source": [
    "## Alignments and Pandas Dataframe\n",
    "\n",
    "### Converting a BioPython alignment to a Pandas Dataframe"
   ]
  },
  {
   "cell_type": "code",
   "execution_count": 7,
   "id": "d186d4ba-945f-4c74-9eb8-696925183224",
   "metadata": {},
   "source": [
    "mel.dataframe_from_alignment(align=align)"
   ],
   "outputs": []
  },
  {
   "cell_type": "markdown",
   "id": "fba4d38c-c08a-4c99-b0de-8e3ce1d524ce",
   "metadata": {},
   "source": [
    "***\n",
    "It is possible to choose the geometric annotations for the Dataframe.\n",
    "***"
   ]
  },
  {
   "cell_type": "code",
   "execution_count": 8,
   "id": "62587060-fdca-477e-bcf1-e381490dcc0f",
   "metadata": {},
   "source": [
    "df = mel.dataframe_from_alignment(align=align, keys=['curvature', 'torsion'])"
   ],
   "outputs": []
  },
  {
   "cell_type": "code",
   "execution_count": 9,
   "id": "1e18a1b6-c1e4-4f5e-bafc-3b852859fee8",
   "metadata": {},
   "source": [
    "df.head()"
   ],
   "outputs": []
  },
  {
   "cell_type": "markdown",
   "id": "bce9136c-ef30-4fbb-84fa-45e90587fa8a",
   "metadata": {},
   "source": [
    "### DataFrame Storage"
   ]
  },
  {
   "cell_type": "markdown",
   "id": "acbe8a61-f6b7-4281-b12b-abd06f1d9c0c",
   "metadata": {},
   "source": [
    "***\n",
    "Pandas Dataframe can be stored using the Parquet file format.\n",
    "***"
   ]
  },
  {
   "cell_type": "code",
   "execution_count": 10,
   "id": "8f591e7b-cf6e-46db-824c-6d4472534906",
   "metadata": {},
   "source": [
    "df.to_parquet('df.parquet.gzip', compression='gzip')  "
   ],
   "outputs": []
  },
  {
   "cell_type": "code",
   "execution_count": 11,
   "id": "a297d32c-a9c4-4fed-aa9e-5cea5a0f9759",
   "metadata": {},
   "source": [
    "pd.read_parquet('df.parquet.gzip') "
   ],
   "outputs": []
  },
  {
   "cell_type": "markdown",
   "id": "193560f7-4368-4208-bdc8-0d41926f2a6b",
   "metadata": {},
   "source": [
    "## Structural Similarity Analysis\n",
    "\n",
    "### Alignment Clustering\n",
    "\n",
    "Melodia can cluster segments of the proteins in the alignment to determine the highly conserved regions. It infers the conservation patterns by comparing the differential geometry of aligned positions. Melodia uses a threshold to determine and group the regions where curvature and torsion are deemed similar. \n",
    "\n",
    "For more information about structural clustering see:\n",
    "\n",
    "Rinaldo W. Montalvão, Richard E. Smith, Simon C. Lovell, Tom L. Blundell, CHORAL: a differential geometry approach to the prediction of the cores of protein structures, *Bioinformatics*, Volume 21, Issue 19, January 2005, Pages 3719–3725, https://doi.org/10.1093/bioinformatics/bti595\n"
   ]
  },
  {
   "cell_type": "code",
   "execution_count": 21,
   "id": "d1e78750-1fe5-49bd-abdc-1da7a13c7808",
   "metadata": {},
   "source": [
    "mel.cluster_alignment(align=align, threshold=1.1, long=True)"
   ],
   "outputs": []
  },
  {
   "cell_type": "markdown",
   "id": "6ff72009-8e80-449e-a791-3f45faf038fe",
   "metadata": {},
   "source": [
    "### Alignment Cluster Annotation\n",
    "\n",
    "Melodia can save a colour-annotated version of the alignment as a PostScript file. Each colour, in aligned positions, indicates blocks with similar geometry. Those clusters accommodate the multimodal nature of protein ensembles of a homologous family, which is particularly characteristic of the Cα spatial distributions in low similarity superfamilies and for loop regions. The differential geometric classification provides a better classification than that obtained using Cα distances alone."
   ]
  },
  {
   "cell_type": "code",
   "execution_count": 25,
   "id": "cb09bab2-cbc6-4509-931a-b7031f7b1a2c",
   "metadata": {},
   "source": [
    "# First select a colour pallete\n",
    "palette='Dark2'\n",
    "colors=7\n",
    "sns.color_palette(palette, colors)"
   ],
   "outputs": []
  },
  {
   "cell_type": "code",
   "execution_count": 23,
   "id": "210602de-3ee8-4c3c-abb4-9be41b24a315",
   "metadata": {},
   "source": [
    "# Save a PS file with the colour-coded alignment\n",
    "mel.save_align_to_ps(align=align, ps_file='model', palette=palette, colors=colors)"
   ],
   "outputs": []
  },
  {
   "cell_type": "markdown",
   "id": "f4abb784-68a4-4ae5-ae94-2772a391fcc4",
   "metadata": {},
   "source": [
    "![alignment cluster](ali_cluster.png)"
   ]
  },
  {
   "cell_type": "markdown",
   "id": "a9df5840-a6f0-47bb-8e78-3e27fe2a2a20",
   "metadata": {},
   "source": [
    "### Structure Superpostion and Annotation\n",
    "\n",
    "Melodia can also create a PyMol script to load and superpose the protein structures and colour the clustered regions like in the PS file. The following command will produce a **clusters_model.pml** script file for this operation."
   ]
  },
  {
   "cell_type": "code",
   "execution_count": 26,
   "id": "07a76f8e-268c-46cb-865c-900d71a38e60",
   "metadata": {},
   "source": [
    "\n",
    "mel.save_pymol_script(align=align, pml_file='cluster_models', palette=palette, colors=colors)"
   ],
   "outputs": []
  },
  {
   "cell_type": "markdown",
   "id": "f670d788-d3ce-4a98-986f-88a4c4fe2c9e",
   "metadata": {},
   "source": [
    "Just run **pymol cluster_models.pml** in the command line to create this vizualization.\n",
    "\n",
    "![pdb clusters](pdbs_cluster.png)\n",
    "\n",
    "***\n",
    "Using a colour-coded alignment and colour-coded structures can give valuable insights into the structural conservation patterns of a protein family. Colour-coded structures can indicate different conformational patterns in an otherwise reasonably similar region that would be classified as a common framework in many programs.\n",
    "***"
   ]
  },
  {
   "cell_type": "code",
   "execution_count": null,
   "id": "1b3fa2ba-84f1-456e-86b1-e6cf1441f246",
   "metadata": {},
   "source": [],
   "outputs": []
  }
 ],
 "metadata": {
  "kernelspec": {
   "display_name": "Python 3 (ipykernel)",
   "language": "python",
   "name": "python3"
  },
  "language_info": {
   "codemirror_mode": {
    "name": "ipython",
    "version": 3
   },
   "file_extension": ".py",
   "mimetype": "text/x-python",
   "name": "python",
   "nbconvert_exporter": "python",
   "pygments_lexer": "ipython3",
   "version": "3.9.16"
  },
  "toc-autonumbering": true
 },
 "nbformat": 4,
 "nbformat_minor": 5
}
